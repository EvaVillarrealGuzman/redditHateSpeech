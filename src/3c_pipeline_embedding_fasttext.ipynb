{
 "cells": [
  {
   "cell_type": "markdown",
   "metadata": {},
   "source": [
    "# Embeddings Neuronales\n",
    "\n",
    "\n",
    "**TODO**"
   ]
  },
  {
   "cell_type": "markdown",
   "metadata": {},
   "source": [
    "### Importanción de librería requeridas"
   ]
  },
  {
   "cell_type": "code",
   "execution_count": 24,
   "metadata": {
    "collapsed": false,
    "jupyter": {
     "outputs_hidden": false
    },
    "pycharm": {
     "name": "#%%\n"
    }
   },
   "outputs": [],
   "source": [
    "import os\n",
    "\n",
    "import warnings\n",
    "import pickle\n",
    "from collections import Counter\n",
    "\n",
    "import numpy as np\n",
    "import pandas as pd\n",
    "\n",
    "import gensim.corpora as corpora\n",
    "from gensim.models import FastText\n",
    "\n",
    "from clustering_utils import vectorize, mbkmeans_clusters\n",
    "\n",
    "warnings.filterwarnings(\"ignore\", category=DeprecationWarning)\n",
    "\n",
    "%matplotlib inline\n"
   ]
  },
  {
   "cell_type": "markdown",
   "metadata": {},
   "source": [
    "### Definición de variables globales"
   ]
  },
  {
   "cell_type": "code",
   "execution_count": 2,
   "metadata": {},
   "outputs": [],
   "source": [
    "TEXT_FILE_READ = 'docs/preprocessing_reddit_data.csv'\n",
    "TEXT_SAVE_FILE = 'docs/reddit_data_fasttext.csv'\n",
    "FILENAME_PICKLE = \"docs/tmpreddit.pickle\"\n",
    "n_clusters = 70"
   ]
  },
  {
   "cell_type": "markdown",
   "metadata": {},
   "source": [
    "### Lectura de los comentarios de Reddit\n",
    "\n",
    "Los comentarios fueron previamente preprocesados (Ver en TODO)."
   ]
  },
  {
   "cell_type": "code",
   "execution_count": 3,
   "metadata": {
    "pycharm": {
     "name": "#%%\n"
    }
   },
   "outputs": [],
   "source": [
    "with open(FILENAME_PICKLE, 'rb') as f:\n",
    "    df = pickle.load(f)\n"
   ]
  },
  {
   "cell_type": "markdown",
   "metadata": {},
   "source": [
    "### Vocabulario"
   ]
  },
  {
   "cell_type": "code",
   "execution_count": 4,
   "metadata": {},
   "outputs": [],
   "source": [
    "# Create Dictionary\n",
    "id2word = corpora.Dictionary(df['lemma_tokens'])\n",
    "\n",
    "# Filtering Extremes\n",
    "id2word.filter_extremes(no_below=2, no_above=.99)\n",
    "\n",
    "# Creating a corpus object\n",
    "corpus = [id2word.doc2bow(d) for d in df['lemma_tokens']]\n",
    "\n",
    "processed_corpus = df['lemma_tokens']\n"
   ]
  },
  {
   "cell_type": "markdown",
   "metadata": {},
   "source": [
    "### Entrenamiento del modelo FastText"
   ]
  },
  {
   "cell_type": "code",
   "execution_count": 5,
   "metadata": {},
   "outputs": [
    {
     "data": {
      "text/plain": [
       "(18382040, 18695800)"
      ]
     },
     "execution_count": 5,
     "metadata": {},
     "output_type": "execute_result"
    }
   ],
   "source": [
    "model = FastText(sentences=processed_corpus, vector_size=100, window=5, min_count=1, workers=4)\n",
    "model.train(processed_corpus, total_examples=len(processed_corpus), epochs=100)"
   ]
  },
  {
   "cell_type": "code",
   "execution_count": 6,
   "metadata": {},
   "outputs": [],
   "source": [
    "# algunas predicciones\n",
    "#model.get_nearest_neighbors('peron')"
   ]
  },
  {
   "cell_type": "code",
   "execution_count": 7,
   "metadata": {},
   "outputs": [],
   "source": [
    "#model.get_nearest_neighbors('cristina')"
   ]
  },
  {
   "cell_type": "code",
   "execution_count": 8,
   "metadata": {},
   "outputs": [],
   "source": [
    "#model.get_nearest_neighbors('nestor')"
   ]
  },
  {
   "cell_type": "code",
   "execution_count": 9,
   "metadata": {},
   "outputs": [],
   "source": [
    "#model.get_nearest_neighbors('neoliberal')"
   ]
  },
  {
   "cell_type": "code",
   "execution_count": 10,
   "metadata": {},
   "outputs": [],
   "source": [
    "#model.get_nearest_neighbors('malvinas')"
   ]
  },
  {
   "cell_type": "code",
   "execution_count": 11,
   "metadata": {},
   "outputs": [],
   "source": [
    "#model.get_analogies('cristina', 'ladrona', 'alberto')"
   ]
  },
  {
   "cell_type": "code",
   "execution_count": 12,
   "metadata": {},
   "outputs": [],
   "source": [
    "#model.wv.most_similar('mapuche')"
   ]
  },
  {
   "cell_type": "markdown",
   "metadata": {},
   "source": [
    "### Generación de vectores desde documentos"
   ]
  },
  {
   "cell_type": "code",
   "execution_count": 13,
   "metadata": {},
   "outputs": [
    {
     "data": {
      "text/plain": [
       "(27791, 100)"
      ]
     },
     "execution_count": 13,
     "metadata": {},
     "output_type": "execute_result"
    }
   ],
   "source": [
    "\n",
    "vectorized_docs = vectorize(processed_corpus, model=model)\n",
    "len(vectorized_docs), len(vectorized_docs[0])\n",
    "\n"
   ]
  },
  {
   "cell_type": "markdown",
   "metadata": {},
   "source": [
    "### Generación de clusters"
   ]
  },
  {
   "cell_type": "code",
   "execution_count": 14,
   "metadata": {
    "tags": []
   },
   "outputs": [
    {
     "name": "stdout",
     "output_type": "stream",
     "text": [
      "For n_clusters = 70\n",
      "Silhouette coefficient: 0.01\n",
      "Inertia:1647867.2361781183\n",
      "Silhouette values:\n",
      "    Cluster 11: Size:149 | Avg:0.20 | Min:0.06 | Max: 0.34\n",
      "    Cluster 25: Size:148 | Avg:0.14 | Min:-0.04 | Max: 0.32\n",
      "    Cluster 56: Size:163 | Avg:0.11 | Min:-0.05 | Max: 0.31\n",
      "    Cluster 9: Size:62 | Avg:0.11 | Min:-0.03 | Max: 0.31\n",
      "    Cluster 50: Size:326 | Avg:0.10 | Min:-0.02 | Max: 0.25\n",
      "    Cluster 44: Size:239 | Avg:0.10 | Min:-0.05 | Max: 0.25\n",
      "    Cluster 47: Size:214 | Avg:0.10 | Min:-0.03 | Max: 0.30\n",
      "    Cluster 41: Size:56 | Avg:0.09 | Min:0.00 | Max: 0.24\n",
      "    Cluster 59: Size:153 | Avg:0.09 | Min:-0.05 | Max: 0.27\n",
      "    Cluster 3: Size:1058 | Avg:0.08 | Min:-0.03 | Max: 0.23\n",
      "    Cluster 14: Size:195 | Avg:0.08 | Min:-0.05 | Max: 0.27\n",
      "    Cluster 40: Size:26 | Avg:0.08 | Min:-0.05 | Max: 0.27\n",
      "    Cluster 42: Size:168 | Avg:0.07 | Min:-0.05 | Max: 0.27\n",
      "    Cluster 30: Size:364 | Avg:0.07 | Min:-0.06 | Max: 0.25\n",
      "    Cluster 49: Size:85 | Avg:0.07 | Min:-0.04 | Max: 0.26\n",
      "    Cluster 67: Size:173 | Avg:0.07 | Min:-0.04 | Max: 0.28\n",
      "    Cluster 64: Size:254 | Avg:0.07 | Min:-0.06 | Max: 0.25\n",
      "    Cluster 23: Size:358 | Avg:0.07 | Min:-0.12 | Max: 0.23\n",
      "    Cluster 65: Size:106 | Avg:0.06 | Min:-0.08 | Max: 0.23\n",
      "    Cluster 37: Size:88 | Avg:0.06 | Min:-0.07 | Max: 0.26\n",
      "    Cluster 26: Size:318 | Avg:0.05 | Min:-0.04 | Max: 0.22\n",
      "    Cluster 27: Size:86 | Avg:0.05 | Min:-0.06 | Max: 0.24\n",
      "    Cluster 17: Size:1261 | Avg:0.05 | Min:0.00 | Max: 0.11\n",
      "    Cluster 45: Size:140 | Avg:0.04 | Min:-0.09 | Max: 0.18\n",
      "    Cluster 46: Size:189 | Avg:0.04 | Min:-0.09 | Max: 0.24\n",
      "    Cluster 24: Size:1265 | Avg:0.04 | Min:-0.05 | Max: 0.15\n",
      "    Cluster 58: Size:169 | Avg:0.04 | Min:-0.12 | Max: 0.20\n",
      "    Cluster 33: Size:116 | Avg:0.04 | Min:-0.13 | Max: 0.25\n",
      "    Cluster 68: Size:440 | Avg:0.04 | Min:-0.10 | Max: 0.25\n",
      "    Cluster 38: Size:129 | Avg:0.03 | Min:-0.13 | Max: 0.28\n",
      "    Cluster 6: Size:257 | Avg:0.03 | Min:-0.10 | Max: 0.25\n",
      "    Cluster 15: Size:332 | Avg:0.03 | Min:-0.09 | Max: 0.22\n",
      "    Cluster 69: Size:150 | Avg:0.03 | Min:-0.10 | Max: 0.21\n",
      "    Cluster 0: Size:285 | Avg:0.03 | Min:-0.10 | Max: 0.23\n",
      "    Cluster 8: Size:530 | Avg:0.02 | Min:-0.09 | Max: 0.21\n",
      "    Cluster 1: Size:329 | Avg:0.02 | Min:-0.10 | Max: 0.21\n",
      "    Cluster 55: Size:1070 | Avg:0.02 | Min:-0.03 | Max: 0.09\n",
      "    Cluster 13: Size:298 | Avg:0.01 | Min:-0.08 | Max: 0.16\n",
      "    Cluster 43: Size:192 | Avg:0.01 | Min:-0.12 | Max: 0.23\n",
      "    Cluster 10: Size:191 | Avg:0.01 | Min:-0.09 | Max: 0.19\n",
      "    Cluster 7: Size:896 | Avg:0.00 | Min:-0.04 | Max: 0.07\n",
      "    Cluster 63: Size:464 | Avg:0.00 | Min:-0.10 | Max: 0.16\n",
      "    Cluster 16: Size:948 | Avg:-0.00 | Min:-0.05 | Max: 0.07\n",
      "    Cluster 28: Size:494 | Avg:-0.00 | Min:-0.11 | Max: 0.15\n",
      "    Cluster 29: Size:1223 | Avg:-0.00 | Min:-0.07 | Max: 0.09\n",
      "    Cluster 60: Size:118 | Avg:-0.01 | Min:-0.14 | Max: 0.16\n",
      "    Cluster 54: Size:822 | Avg:-0.01 | Min:-0.08 | Max: 0.10\n",
      "    Cluster 53: Size:848 | Avg:-0.01 | Min:-0.07 | Max: 0.10\n",
      "    Cluster 20: Size:301 | Avg:-0.01 | Min:-0.11 | Max: 0.15\n",
      "    Cluster 5: Size:666 | Avg:-0.01 | Min:-0.09 | Max: 0.10\n",
      "    Cluster 21: Size:220 | Avg:-0.01 | Min:-0.13 | Max: 0.15\n",
      "    Cluster 18: Size:606 | Avg:-0.01 | Min:-0.06 | Max: 0.07\n",
      "    Cluster 2: Size:234 | Avg:-0.01 | Min:-0.11 | Max: 0.16\n",
      "    Cluster 12: Size:559 | Avg:-0.01 | Min:-0.10 | Max: 0.14\n",
      "    Cluster 19: Size:374 | Avg:-0.01 | Min:-0.14 | Max: 0.16\n",
      "    Cluster 22: Size:1181 | Avg:-0.02 | Min:-0.08 | Max: 0.08\n",
      "    Cluster 66: Size:398 | Avg:-0.02 | Min:-0.12 | Max: 0.16\n",
      "    Cluster 61: Size:155 | Avg:-0.02 | Min:-0.12 | Max: 0.15\n",
      "    Cluster 34: Size:575 | Avg:-0.02 | Min:-0.10 | Max: 0.10\n",
      "    Cluster 57: Size:550 | Avg:-0.02 | Min:-0.12 | Max: 0.13\n",
      "    Cluster 36: Size:96 | Avg:-0.02 | Min:-0.12 | Max: 0.11\n",
      "    Cluster 39: Size:353 | Avg:-0.03 | Min:-0.13 | Max: 0.12\n",
      "    Cluster 35: Size:514 | Avg:-0.03 | Min:-0.13 | Max: 0.14\n",
      "    Cluster 4: Size:338 | Avg:-0.04 | Min:-0.14 | Max: 0.10\n",
      "    Cluster 48: Size:684 | Avg:-0.04 | Min:-0.14 | Max: 0.07\n",
      "    Cluster 51: Size:391 | Avg:-0.04 | Min:-0.15 | Max: 0.13\n",
      "    Cluster 52: Size:490 | Avg:-0.05 | Min:-0.15 | Max: 0.13\n",
      "    Cluster 62: Size:420 | Avg:-0.05 | Min:-0.14 | Max: 0.12\n",
      "    Cluster 32: Size:485 | Avg:-0.05 | Min:-0.14 | Max: 0.07\n",
      "    Cluster 31: Size:256 | Avg:-0.08 | Min:-0.20 | Max: 0.09\n"
     ]
    }
   ],
   "source": [
    "clustering, cluster_labels = mbkmeans_clusters(\n",
    "    X=vectorized_docs,\n",
    "    k=n_clusters,\n",
    "    mb=500,\n",
    "    print_silhouette_values=True,\n",
    ")\n",
    "df_clusters = pd.DataFrame({\n",
    "    \"text\": df[\"body\"].values,\n",
    "    \"tokens\": [\" \".join(text) for text in processed_corpus],\n",
    "    \"cluster\": cluster_labels\n",
    "})\n",
    "\n"
   ]
  },
  {
   "cell_type": "markdown",
   "metadata": {},
   "source": [
    "### *Top terms* por cluster (basado en los centroides de los clusters)"
   ]
  },
  {
   "cell_type": "code",
   "execution_count": 15,
   "metadata": {},
   "outputs": [
    {
     "name": "stdout",
     "output_type": "stream",
     "text": [
      "Most representative terms per cluster (based on centroids):\n",
      "Cluster 0: dar odar gaydar rodar sudar leudar amoldar apodar tildar anidar \n",
      "Cluster 1: pagar pagarar \\*pagar pagartar apagar pagarl pagarlo prepagar divagar pagarme \n",
      "Cluster 2: plata planck plan platea platita platón platynun platar plazita plaz \n",
      "Cluster 3: él inocentemente intermitente eficientemente obligadamente inocente coeficiente intento ineficiente corruptamente \n",
      "Cluster 4: chinardo chevy china chevrolé che chispa chispo chi chistoso chifla \n",
      "Cluster 5: \\+agente eficientemente exigente demente conscientemente coeficiente oyente agente ineficiente gente \n",
      "Cluster 6: hijaeputa hijo hijo_puta hijota hijos hijodeputo putamadre hij laputamadre puta \n",
      "Cluster 7: terrateniente coeficiente terriblemente eficiente enterrado fehaciente deficiente proveniente estupefaciente creciente \n",
      "Cluster 8: jajajar jajajajar jajaja jajajajjar jajajaja jajajajajar jajajaajaja jajajejox jajajajajjajar jajajajaja \n",
      "Cluster 9: tema tema\" temas temaso ucema yema scema teorema temazo poema \n",
      "Cluster 10: problema problema.eso prpblema problemática problems \\-problema problematico problrma emblema problemático \n",
      "Cluster 11: theory theyll th thought thank though thanks they without them \n",
      "Cluster 12: ado rayado nómado agotado entubado naado wado zanjado vado azotado \n",
      "Cluster 13: precio precios_cuidado precipicio control_precio precioso preciosbardeado aprecio precio-calidad precie precisar \n",
      "Cluster 14: tipo tipoel logotipo tips tipea zalipo prototipo tip pipo tipeo \n",
      "Cluster 15: vida vidatm vidalfu movida sida ida vidal adida lápida frígida \n",
      "Cluster 16: sub-secta-rama-división-divergencia-reconfiguración-alteración industrialización laempresanoesresponsablepordesgraciaspersonalnisupersonalestargenuinamenteinteresadoenloqueocurraenlavidadelcliente información_actualizado iniciativa descentralización excel-administrativo distraser intervención informática \n",
      "Cluster 17: laempresanoesresponsablepordesgraciaspersonalnisupersonalestargenuinamenteinteresadoenloqueocurraenlavidadelcliente coeficiente ineficiente contraproducente creciente consistente intraducible subconsciente terrateniente proveniente \n",
      "Cluster 18: coeficiente segmento seguimiento ineficiente corruptamente eficiente contundente seguramente congruente contribuyente \n",
      "Cluster 19: va tén obtén va\\ té va- cén diciendote vaa mágén \n",
      "Cluster 20: extender encender bender revender descender pretender ofender prender suspender tender \n",
      "Cluster 21: cagar cagarlo cagand0 cagara caga cagarme cagan cagariar cagazo cagandote \n",
      "Cluster 22: yikar oar ríar gfar ryar oskar mugiwar azkar .gob.ar oceaníar \n",
      "Cluster 23: thought thank wouldnt though wouldn´t we without its theory myself \n",
      "Cluster 24: easy feedback**](_for big—though heathers ^(soy_bot bugs?:_)[^(github thought worse witness theory \n",
      "Cluster 25: re reabre rex reltih reí repostre rev revéz rel retire \n",
      "Cluster 26: argentina?.\"al argentino argentina-perú argentinatm argentinans argentina1234 argentinoo argentiniar argentinadepie argentinus \n",
      "Cluster 27: ojo mojo riojo piojo hojo jojojo dojo cojo jojo anteojo \n",
      "Cluster 28: púbico cántico lúdico exótico exotico cívico élfico eico gótico optico \n",
      "Cluster 29: laempresanoesresponsablepordesgraciaspersonalnisupersonalestargenuinamenteinteresadoenloqueocurraenlavidadelcliente ineficiente coeficiente deficiente concientizar irregular interpretación consistente conscriptar eficiente \n",
      "Cluster 30: país expaís pís pbís exigente insurgente inmigrantes+planeros+clientelismo mís deficiente vís \n",
      "Cluster 31: 6to dpto vómito mito agito dígito cto imito apto hurto \n",
      "Cluster 32: perderiar perderio perderir perder perpetúar perpetuamente perdistar perpetuar deficiente perdonar \n",
      "Cluster 33: ah ^ah -ah tdah ahy ahii ~~ah ahh \\-ah yeah \n",
      "Cluster 34: caimán camín caviahue catán camaño camilo cayobun caia casu callejón \n",
      "Cluster 35: iponer oponer reponer sooner exponer imponer disponer oner poner toner \n",
      "Cluster 36: bola bolu\\*\\ boluu bolu boloudu ébola bolassss boludex bolude boludee \n",
      "Cluster 37: x200b ̪͈̞̝̟͉͙͖͇̺̣̱̑̆̓͐̓̓̎͐̌͊̽̕̕͜͜͠l̢̨̝̻̙̱̖̮̓̐͊̈́̌̓̒̔̂͢͢͠o̢̟̞̞͍̜̰̯͖̯͓̠̦̻̱̒̈́̏̇͑̀͂̽͛̍͋͊͗̅͝ŝ̡̗͖͍͎̲͚͈̠͕̺͐̉̓͐̈́̓͝͝͡͝ x2 ̲͙̪͕͇̤̏̌̊̑͆̌m̳̦͂̓į͉̟͓̰̞͆̎͌̉̾̕l͟͡i̩̙̙̦̟̱̱͗͆̽͌͊͛͝c̨̛̳̜̹̬̺̲͎̹͙͙̻̲̞̗̹̯̿̈͛̋̄̇̓̏̍̓͑͂̇̌̒̀͢͟͠͡ờ̧̫͓͈̝̮̝̬̮̩̤͚̟̥̲̼͙̗̝̆̇́̉͛̅́̽̽̋́̓̂͆̏̒̚͟͝͞ͅṣ̨̨̛̼̩͚̘̮͉̲̝͓͖̱͓͓̎̂̽̑̎̎̃̄̔͊̑͊̂̕͜͞͞?̧̡̛̛̰̤͎̪͔̬̞̼̳̣̩͇̺̰̣͔͔͍̺̩̥̓́̈͛̍̐̇̆̂̈́̅̑̓̐͗̄̅̚̚͘͟͟͠͝͞͞ͅ~~. ̢̧͙͍̦̮̤̍͒́̄̈́̊̚~~v̜̏u̹̫̙͕͐̿͒͋̍̂͜ͅé̢̥͓̣͇̬̹̪͕̀̈̑̃͛̍̈́̐͡ͅl̩͔͍̙̗̬̄̂̐̆̉͢͡͞ṿ̜̖̟̤̱̺̐̋́͆̇͠͡a̱̠̦̜͕̦̮͕̾̀̐̍̑́̊͗n̜̤͈͙̩͙̩̥̙̞͌̅͌̐͛̈̚̕̕͠ +200 \\>en ̖̰̜̞̓͑̅͝qȕ̢͚͖͖̽̉̚e̘̠͙̓̃͠ 6200 d7200 \n",
      "Cluster 38: vo -vo vox vofi vodka vodi vos octavo voraz llvo \n",
      "Cluster 39: pesos peso pesont mes 1500usd 50usd 25usd 9usd usd pes \n",
      "Cluster 40: sentir sentiría dientir senti orientir sentiar sentis sentastir desmentir eventir \n",
      "Cluster 41: carne carnet carn etchebarne carnívoro carnosa urne carnicería carniceer sarney \n",
      "Cluster 42: acá acábo ac acv acné \\*sacá acaa aca acabé acabás \n",
      "Cluster 43: ~~hombre hombre homre->mujer hombr ~~nombre~~ nombre sobrenombre mujer sombrerin ambre \n",
      "Cluster 44: yo qcyo hoyo joyo él yayo yokozuna anyo oclayo rayo \n",
      "Cluster 45: video xvideo videos videoclip videoclub ^(reddit_video montevideo videogame vide savevideo \n",
      "Cluster 46: gracia- graciaas graciass graciasss graciassss gracias gracia graciaaasssss graciar \\*gracia \n",
      "Cluster 47: viejo viejo= pendeviejo vieja.me.dejo cejo vieja abejo vieja~~ viejas viejo_choto \n",
      "Cluster 48: leído leendo posteado poseído posteriormente postear comentario.que virgocomentario reposteado crosspostear \n",
      "Cluster 49: malo malot malooo mal\\ malolient malt mal<-- maloliente maluma mal \n",
      "Cluster 50: vo -vo vox octavo vofi enojarte vodka contestarte dádivo vos \n",
      "Cluster 51: mano el.mano manoplar mapu marciano araucano rumano gobiedno reptiliano macriano \n",
      "Cluster 52: iriir qcir iir deprir descuidir depdnir demigrir desguacir desmentir yyyir \n",
      "Cluster 53: satana sabana salsipued cochera salsita salsa salmón pinochet salamín salme \n",
      "Cluster 54: estalinismo stalinismo ultraderecha-neoliberal-imperialista-cipaya-procia organismo ginocentrismo utilitarismo intervencionismo mecanismo ambientalismo cinismo \n",
      "Cluster 55: laempresanoesresponsablepordesgraciaspersonalnisupersonalestargenuinamenteinteresadoenloqueocurraenlavidadelcliente creciente creyente increíblemente deficiente ineficiente injusticiar perpetuamente democraciar adoctrinarar \n",
      "Cluster 56: ley wesley ley_etiquetar ley_etiquetado leyends obey eey proyectar leé etiquetado \n",
      "Cluster 57: tomate tomatela tomatelas tomatelá cocolate tomates accurate mate remate tómate \n",
      "Cluster 58: dolar dólar olar amándolar bipolar embolar \\-volar inmolar enrolar indicándolar \n",
      "Cluster 59: foto fotopija\\ fotografia joto fotito déspoto fotografiar fotocopia zloto noto \n",
      "Cluster 60: car caroyar carvajal cacar caribbear carl cavar carr carpetar cararrotar \n",
      "Cluster 61: sacar sacarl sacarla sacarar fiacar bacar sacal sacarno sac sacarme \n",
      "Cluster 62: pasá paso pasé palaso pak pasás pass pavón pasen password \n",
      "Cluster 63: comeriia comel comité comeran comedy comía comí come-nén coml comecar \n",
      "Cluster 64: venir devenir cezinkoenir veniar cenir venirte prevenir veni venie provenir \n",
      "Cluster 65: cara cara? caradura caracol caraván caracas carabín cararrota carajinho carl \n",
      "Cluster 66: milei-espert milei votar votarl milei.y milei’s votarar mileinial votos votaba \n",
      "Cluster 67: año año.~~ añs años ermitaño daño aledaño cumpleaño mes secuestrador \n",
      "Cluster 68: ver aver elver vancouver abrosver over cover sever rehacer veríar \n",
      "Cluster 69: faltar faltariar asfaltar falta gibraltar falt faltan altar faltant paltar \n"
     ]
    }
   ],
   "source": [
    "print(\"Most representative terms per cluster (based on centroids):\")\n",
    "for i in range(n_clusters):\n",
    "    tokens_per_cluster = \"\"\n",
    "    most_representative = model.wv.most_similar(positive=[clustering.cluster_centers_[i]], topn=10)\n",
    "    for t in most_representative:\n",
    "        tokens_per_cluster += f\"{t[0]} \"\n",
    "    print(f\"Cluster {i}: {tokens_per_cluster}\")\n",
    "\n"
   ]
  },
  {
   "cell_type": "markdown",
   "metadata": {},
   "source": [
    "### *Top terms* por cluster (basado en las palabras más frecuentes)"
   ]
  },
  {
   "cell_type": "code",
   "execution_count": 16,
   "metadata": {
    "collapsed": false,
    "jupyter": {
     "outputs_hidden": false
    },
    "pycharm": {
     "name": "#%%\n"
    }
   },
   "outputs": [
    {
     "name": "stdout",
     "output_type": "stream",
     "text": [
      "Cluster 0: dar(243) él(91) quedar(21) vuelta(15) querer(15) \n",
      "Cluster 1: pagar(235) impuesto(73) cobrar(37) pago(26) sueldo(23) \n",
      "Cluster 2: plan(88) plata(75) plato(15) social(13) querer(13) \n",
      "Cluster 3: él(1199) querer(76) hacer(73) ver(56) dejar(54) \n",
      "Cluster 4: che(92) china(31) chino(29) onda(25) mina(15) \n",
      "Cluster 5: gente(264) persona(59) pasar(53) entender(35) pensar(34) \n",
      "Cluster 6: hijo(147) puta(86) puto(34) madre(27) padre(24) \n",
      "Cluster 7: tener(96) llegar(54) tenés(50) tirar(46) punto(45) \n",
      "Cluster 8: jaja(116) jajaja(85) jajajar(66) jajajaja(52) jajaj(40) \n",
      "Cluster 9: tema(63) aborto(3) gente(3) post(3) tocar(2) \n",
      "Cluster 10: problema(166) resolver(16) peronismo(8) volver(8) solucionar(7) \n",
      "Cluster 11: the(164) of(49) you(39) is(39) and(38) \n",
      "Cluster 12: lado(44) pelado(25) quedar(19) pedo(19) pasar(17) \n",
      "Cluster 13: precio(186) comprar(93) producto(23) compra(18) barato(18) \n",
      "Cluster 14: tipo(195) persona(9) tirar(7) gente(6) gustar(6) \n",
      "Cluster 15: vida(253) vivir(67) gente(13) él(12) pasar(11) \n",
      "Cluster 16: leer(65) buscar(55) reddit(54) dato(39) ver(36) \n",
      "Cluster 17: laburo(75) pasar(67) ver(47) argentino(39) comprar(37) \n",
      "Cluster 18: seguro(122) él(75) seguir(67) pelotudo(60) cosa(29) \n",
      "Cluster 19: va(181) tén(177) pod(51) él(22) pasar(14) \n",
      "Cluster 20: vender(93) entender(77) aprender(40) depender(26) sorprender(17) \n",
      "Cluster 21: cagar(116) risa(56) caer(31) tiro(15) cago(14) \n",
      "Cluster 22: dejar(104) llamar(93) pasar(59) tirar(57) par(49) \n",
      "Cluster 23: ⠀(685) the(90) to(82) and(66) you(55) \n",
      "Cluster 24: ️(48) the(32) él(27) oh(24) jugar(24) \n",
      "Cluster 25: re(155) puta_madre(8) loco(8) ah(7) cagar(7) \n",
      "Cluster 26: argentino(199) argentina(132) r(13) mundo(11) pasar(10) \n",
      "Cluster 27: ojo(67) rojo(14) ver(6) agua(5) mirar(5) \n",
      "Cluster 28: único(94) rico(47) político(34) chico(31) unico(23) \n",
      "Cluster 29: gobierno(66) él(58) empresa(43) gente(40) público(40) \n",
      "Cluster 30: país(363) mundo(26) gente(26) argentina(23) vivir(21) \n",
      "Cluster 31: orto(42) gusto(27) muerto(19) listo(17) gustar(15) \n",
      "Cluster 32: ganar(109) perder(107) seguir(79) pensar(72) elección(56) \n",
      "Cluster 33: ah(104) macri(20) pacer(5) decir(5) macrista(4) \n",
      "Cluster 34: casa(154) auto(81) calle(80) caer(33) caso(32) \n",
      "Cluster 35: poner(214) /s(38) >(33) tener(27) él(22) \n",
      "Cluster 36: bola(39) huevo(29) romper(17) boludo(11) gana(5) \n",
      "Cluster 37: x200b(102) /s(23) andar(3) my(3) lpm(3) \n",
      "Cluster 38: vo(136) decir(11) favor(10) so(5) gracias(5) \n",
      "Cluster 39: mes(142) peso(82) pesos(71) millón(30) usd(27) \n",
      "Cluster 40: sentir(21) identificado(2) estar(2) angustiado(1) perro(1) \n",
      "Cluster 41: carne(47) milanesa(13) empanada(7) pollo(7) arroz(6) \n",
      "Cluster 42: acá(164) ver(9) aca(9) argentina(7) él(6) \n",
      "Cluster 43: hombre(101) mujer(86) nombre(40) pobre(22) gris(8) \n",
      "Cluster 44: yo(245) decir(20) él(17) ir(14) pensar(13) \n",
      "Cluster 45: video(128) ver(18) mirar(12) porno(9) explicar(7) \n",
      "Cluster 46: gracias(137) gracia(43) dios(8) gracioso(7) jaja(7) \n",
      "Cluster 47: viejo(233) él(16) gente(10) año(9) importar(9) \n",
      "Cluster 48: post(104) leer(87) lindo(72) sub(71) op(70) \n",
      "Cluster 49: malo(90) entender(7) año(4) él(4) gente(3) \n",
      "Cluster 50: vo(329) él(34) decir(25) pasar(18) querer(16) \n",
      "Cluster 51: mano(141) gobierno(80) mapuch(32) querer(20) mandar(18) \n",
      "Cluster 52: decir(181) ir(119) pedir(57) él(24) sentir(19) \n",
      "Cluster 53: salir(103) noche(53) mañana(50) semana(39) san(39) \n",
      "Cluster 54: peronismo(117) peronista(110) gobierno(50) k(47) liberal(39) \n",
      "Cluster 55: año(122) querer(79) hablar(67) vivir(56) decir(52) \n",
      "Cluster 56: ley(186) etiquetado(14) votar(11) proyecto(9) gente(9) \n",
      "Cluster 57: tomar(119) mate(72) agua(52) calor(51) gustar(48) \n",
      "Cluster 58: dolar(103) dólar(60) peso(30) subir(17) pesos(14) \n",
      "Cluster 59: foto(161) sacar(16) ver(14) salir(7) él(7) \n",
      "Cluster 60: car(65) caño(11) caro(8) él(7) provincia(5) \n",
      "Cluster 61: sacar(97) salir(36) buscar(21) foto(9) rival(7) \n",
      "Cluster 62: paso(103) pasar(81) amigo(49) paz(27) par(18) \n",
      "Cluster 63: comer(139) comida(51) come(32) pobre(24) hamburguesa(16) \n",
      "Cluster 64: venir(245) año(26) semana(14) mes(9) pasar(8) \n",
      "Cluster 65: cara(104) boludo(8) mirar(7) él(6) ver(6) \n",
      "Cluster 66: milei(193) voto(113) votar(100) espert(81) caño(32) \n",
      "Cluster 67: año(189) par(6) volver(6) empezar(6) esperar(5) \n",
      "Cluster 68: ver(379) hacer(72) volver(19) él(15) pensar(11) \n",
      "Cluster 69: faltar(77) falta(51) respeto(7) comentario(5) respuesta(5) \n"
     ]
    }
   ],
   "source": [
    "for i in range(n_clusters):\n",
    "    tokens_per_cluster = \"\"\n",
    "    most_frequent = Counter(\" \".join(df_clusters.query(f\"cluster == {i}\")[\"tokens\"]).split()).most_common(5)\n",
    "    for t in most_frequent:\n",
    "        tokens_per_cluster += f\"{t[0]}({str(t[1])}) \"\n",
    "    print(f\"Cluster {i}: {tokens_per_cluster}\")\n"
   ]
  },
  {
   "cell_type": "markdown",
   "metadata": {},
   "source": [
    "### Recupere los documentos más representativos (basados en los centroides de los clústeres) para un cluster en particular"
   ]
  },
  {
   "cell_type": "code",
   "execution_count": 17,
   "metadata": {
    "collapsed": false,
    "jupyter": {
     "outputs_hidden": false
    },
    "pycharm": {
     "name": "#%%\n"
    }
   },
   "outputs": [
    {
     "name": "stdout",
     "output_type": "stream",
     "text": [
      "También te podés enterar que darle un danonino y una barrita de cereales a un nene todos los dias no es para nada saludable\n",
      "-------------\n",
      "Si me traen a twice o mamamoo  esta todo bien. Total... Para lo que nos roban aunque sea que nos den un recital.. Ya no quiero a León gieco o fito Páez. Ni onda tienen ya.\n",
      "-------------\n",
      "Que salame jajajajaja. No pasa por el lado del miedo sino por el lado de no darle cabida; contacto visual es perpetuar la interacción entre los dos\n",
      "-------------\n",
      "Tal cual. Yo les doy una machinegun y un exo-esqueleto hidráulico con vision nocturna a cada uno.\n",
      "-------------\n",
      "Queda en nosotros, don Falla, buscar a quien darle con ese romanticismo guardado que tenemos adentro y que no le joda jajajaja\n",
      "-------------\n",
      "Boludo me dejaste regulando, recién me doy cuenta que era el disfraz de danielsan en karate kid jajaja\n",
      "-------------\n",
      "¿Mr. poronga por Detroit? Está a un doble sentido de distancia que le den cédula venezolana.\n",
      "-------------\n",
      "Yo también me quiero comprar un Passat, es enorme y cómodo. Al 2.0 automático no hay con que darle.\n",
      "-------------\n",
      "Se la guardan y te prepotean con que sos un oligarca y deberías darles más porque ellos dicen que ayudan a los pobres.\n",
      "-------------\n",
      "Recuerdo que nuestro seguridad e higiene nos daba una charla de 10min a 20min, todos los días, a me dejas igual total me pagan nJsjs\n",
      "-------------\n"
     ]
    }
   ],
   "source": [
    "test_cluster = 0\n",
    "most_representative_docs = np.argsort(\n",
    "    np.linalg.norm(vectorized_docs - clustering.cluster_centers_[test_cluster], axis=1)\n",
    ")\n",
    "for d in most_representative_docs[:10]:\n",
    "    print( df[\"body\"].values[d])\n",
    "    print(\"-------------\")"
   ]
  },
  {
   "cell_type": "code",
   "execution_count": 18,
   "metadata": {},
   "outputs": [
    {
     "name": "stdout",
     "output_type": "stream",
     "text": [
      "[39]\n"
     ]
    }
   ],
   "source": [
    "\n",
    "#print(len(vectorized_docs))\n",
    "#print(vectorized_docs[0])\n",
    "\n",
    "test_v = vectorize([['defender', 'peso', 'siente', 'corazón', 'compro', 'pesos', 'tasa', 'fijo', 'año']], model=model)\n",
    "prediction = clustering.predict(test_v)\n",
    "print(prediction)"
   ]
  },
  {
   "cell_type": "code",
   "execution_count": 19,
   "metadata": {},
   "outputs": [],
   "source": [
    "reddit = pd.read_csv(TEXT_FILE_READ)\n",
    "\n",
    "def get_cluster(row):\n",
    "    test_v = vectorize([row], model=model)\n",
    "    return clustering.predict(test_v)\n",
    "\n",
    "reddit['cluster'] = reddit.apply(lambda row: get_cluster(row['lemma_tokens']) , axis = 1) \n"
   ]
  },
  {
   "cell_type": "code",
   "execution_count": 20,
   "metadata": {},
   "outputs": [
    {
     "data": {
      "text/html": [
       "<div>\n",
       "<style scoped>\n",
       "    .dataframe tbody tr th:only-of-type {\n",
       "        vertical-align: middle;\n",
       "    }\n",
       "\n",
       "    .dataframe tbody tr th {\n",
       "        vertical-align: top;\n",
       "    }\n",
       "\n",
       "    .dataframe thead th {\n",
       "        text-align: right;\n",
       "    }\n",
       "</style>\n",
       "<table border=\"1\" class=\"dataframe\">\n",
       "  <thead>\n",
       "    <tr style=\"text-align: right;\">\n",
       "      <th></th>\n",
       "      <th>score</th>\n",
       "      <th>id</th>\n",
       "      <th>flair</th>\n",
       "      <th>comms_num</th>\n",
       "      <th>body</th>\n",
       "      <th>comment_parent_id</th>\n",
       "      <th>is_replay</th>\n",
       "      <th>Unnamed: 7</th>\n",
       "      <th>Unnamed: 8</th>\n",
       "      <th>Unnamed: 9</th>\n",
       "      <th>Unnamed: 10</th>\n",
       "      <th>Unnamed: 11</th>\n",
       "      <th>Unnamed: 12</th>\n",
       "      <th>Unnamed: 13</th>\n",
       "      <th>Unnamed: 14</th>\n",
       "      <th>lemma_tokens</th>\n",
       "      <th>body_preprocessing</th>\n",
       "      <th>cluster</th>\n",
       "    </tr>\n",
       "  </thead>\n",
       "  <tbody>\n",
       "    <tr>\n",
       "      <th>0</th>\n",
       "      <td>1</td>\n",
       "      <td>hfw14mt</td>\n",
       "      <td>Discusion🧐</td>\n",
       "      <td>1</td>\n",
       "      <td>todo para decir que tapaste el baño. tira un b...</td>\n",
       "      <td>q44kw3</td>\n",
       "      <td>False</td>\n",
       "      <td>NaN</td>\n",
       "      <td>NaN</td>\n",
       "      <td>NaN</td>\n",
       "      <td>NaN</td>\n",
       "      <td>NaN</td>\n",
       "      <td>NaN</td>\n",
       "      <td>NaN</td>\n",
       "      <td>NaN</td>\n",
       "      <td>['tapastir', 'baño', 'tirar', 'balde', 'aguo']</td>\n",
       "      <td>tapastir baño tirar balde aguo</td>\n",
       "      <td>[24]</td>\n",
       "    </tr>\n",
       "    <tr>\n",
       "      <th>1</th>\n",
       "      <td>1</td>\n",
       "      <td>hfw41eh</td>\n",
       "      <td>Discusion🧐</td>\n",
       "      <td>0</td>\n",
       "      <td>sopapa primero master, si hay tapón te vas a t...</td>\n",
       "      <td>hfw14mt</td>\n",
       "      <td>True</td>\n",
       "      <td>NaN</td>\n",
       "      <td>NaN</td>\n",
       "      <td>NaN</td>\n",
       "      <td>NaN</td>\n",
       "      <td>NaN</td>\n",
       "      <td>NaN</td>\n",
       "      <td>NaN</td>\n",
       "      <td>NaN</td>\n",
       "      <td>['sopapa', 'master', 'tapón', 'va', 'teñir', '...</td>\n",
       "      <td>sopapa master tapón va teñir medio</td>\n",
       "      <td>[24]</td>\n",
       "    </tr>\n",
       "    <tr>\n",
       "      <th>2</th>\n",
       "      <td>1</td>\n",
       "      <td>hfw1ao2</td>\n",
       "      <td>Discusion🧐</td>\n",
       "      <td>0</td>\n",
       "      <td>Usas la sopapa, o tiras agua caliente con un b...</td>\n",
       "      <td>q44kw3</td>\n",
       "      <td>False</td>\n",
       "      <td>NaN</td>\n",
       "      <td>NaN</td>\n",
       "      <td>NaN</td>\n",
       "      <td>NaN</td>\n",
       "      <td>NaN</td>\n",
       "      <td>NaN</td>\n",
       "      <td>NaN</td>\n",
       "      <td>NaN</td>\n",
       "      <td>['sopapo', 'tira', 'agua', 'caliente', 'balde']</td>\n",
       "      <td>sopapo tira agua caliente balde</td>\n",
       "      <td>[24]</td>\n",
       "    </tr>\n",
       "    <tr>\n",
       "      <th>3</th>\n",
       "      <td>1</td>\n",
       "      <td>hfw3jof</td>\n",
       "      <td>Discusion🧐</td>\n",
       "      <td>2</td>\n",
       "      <td>Lo que he probado que siempre me dio resultado...</td>\n",
       "      <td>q44kw3</td>\n",
       "      <td>False</td>\n",
       "      <td>NaN</td>\n",
       "      <td>NaN</td>\n",
       "      <td>NaN</td>\n",
       "      <td>NaN</td>\n",
       "      <td>NaN</td>\n",
       "      <td>NaN</td>\n",
       "      <td>NaN</td>\n",
       "      <td>NaN</td>\n",
       "      <td>['probado', 'resultado', 'sellar', 'boca', 'in...</td>\n",
       "      <td>probado resultado sellar boca inodoro tirar ca...</td>\n",
       "      <td>[24]</td>\n",
       "    </tr>\n",
       "    <tr>\n",
       "      <th>4</th>\n",
       "      <td>1</td>\n",
       "      <td>hfw6v4i</td>\n",
       "      <td>Discusion🧐</td>\n",
       "      <td>0</td>\n",
       "      <td>Estas cobrando por dar mantenimiento y no sabe...</td>\n",
       "      <td>q44kw3</td>\n",
       "      <td>False</td>\n",
       "      <td>NaN</td>\n",
       "      <td>NaN</td>\n",
       "      <td>NaN</td>\n",
       "      <td>NaN</td>\n",
       "      <td>NaN</td>\n",
       "      <td>NaN</td>\n",
       "      <td>NaN</td>\n",
       "      <td>NaN</td>\n",
       "      <td>['cobrar', 'mantenimiento', 'carajo', 'kjjjjjj...</td>\n",
       "      <td>cobrar mantenimiento carajo kjjjjjjjjj vivirio...</td>\n",
       "      <td>[24]</td>\n",
       "    </tr>\n",
       "    <tr>\n",
       "      <th>5</th>\n",
       "      <td>1</td>\n",
       "      <td>hfw26iv</td>\n",
       "      <td>Discusion🧐</td>\n",
       "      <td>0</td>\n",
       "      <td>Si tenes algo con punta, metelo y hace un poco...</td>\n",
       "      <td>q44kw3</td>\n",
       "      <td>False</td>\n",
       "      <td>NaN</td>\n",
       "      <td>NaN</td>\n",
       "      <td>NaN</td>\n",
       "      <td>NaN</td>\n",
       "      <td>NaN</td>\n",
       "      <td>NaN</td>\n",
       "      <td>NaN</td>\n",
       "      <td>NaN</td>\n",
       "      <td>['tén', 'punto', 'metelo', 'fuerza', 'romper',...</td>\n",
       "      <td>tén punto metelo fuerza romper tapo baño tirar...</td>\n",
       "      <td>[24]</td>\n",
       "    </tr>\n",
       "    <tr>\n",
       "      <th>6</th>\n",
       "      <td>1</td>\n",
       "      <td>hfw2gof</td>\n",
       "      <td>Discusion🧐</td>\n",
       "      <td>1</td>\n",
       "      <td>Con una manguera para regar el jardín, si tene...</td>\n",
       "      <td>q44kw3</td>\n",
       "      <td>False</td>\n",
       "      <td>NaN</td>\n",
       "      <td>NaN</td>\n",
       "      <td>NaN</td>\n",
       "      <td>NaN</td>\n",
       "      <td>NaN</td>\n",
       "      <td>NaN</td>\n",
       "      <td>NaN</td>\n",
       "      <td>NaN</td>\n",
       "      <td>['regar', 'jardín', 'tén', 'pod', 'probar']</td>\n",
       "      <td>regar jardín tén pod probar</td>\n",
       "      <td>[24]</td>\n",
       "    </tr>\n",
       "    <tr>\n",
       "      <th>7</th>\n",
       "      <td>1</td>\n",
       "      <td>hfw5s13</td>\n",
       "      <td>Discusion🧐</td>\n",
       "      <td>0</td>\n",
       "      <td>despues regas el jardin y se lava sola, solo q...</td>\n",
       "      <td>hfw2gof</td>\n",
       "      <td>True</td>\n",
       "      <td>NaN</td>\n",
       "      <td>NaN</td>\n",
       "      <td>NaN</td>\n",
       "      <td>NaN</td>\n",
       "      <td>NaN</td>\n",
       "      <td>NaN</td>\n",
       "      <td>NaN</td>\n",
       "      <td>NaN</td>\n",
       "      <td>['rega', 'jardin', 'lava', 'tenés', 'lavarte',...</td>\n",
       "      <td>rega jardin lava tenés lavarte mano pulgar chorro</td>\n",
       "      <td>[24]</td>\n",
       "    </tr>\n",
       "    <tr>\n",
       "      <th>8</th>\n",
       "      <td>1</td>\n",
       "      <td>hfw3air</td>\n",
       "      <td>Discusion🧐</td>\n",
       "      <td>0</td>\n",
       "      <td>La respuesta real es que se venden unos caños ...</td>\n",
       "      <td>q44kw3</td>\n",
       "      <td>False</td>\n",
       "      <td>NaN</td>\n",
       "      <td>NaN</td>\n",
       "      <td>NaN</td>\n",
       "      <td>NaN</td>\n",
       "      <td>NaN</td>\n",
       "      <td>NaN</td>\n",
       "      <td>NaN</td>\n",
       "      <td>NaN</td>\n",
       "      <td>['respuesta', 'real', 'vender', 'caño', 'alamb...</td>\n",
       "      <td>respuesta real vender caño alambrado decir cañ...</td>\n",
       "      <td>[24]</td>\n",
       "    </tr>\n",
       "    <tr>\n",
       "      <th>9</th>\n",
       "      <td>7</td>\n",
       "      <td>hfvxa6w</td>\n",
       "      <td>Discusion🧐</td>\n",
       "      <td>3</td>\n",
       "      <td>Mi alfajor favorito es el Havana</td>\n",
       "      <td>q443eo</td>\n",
       "      <td>False</td>\n",
       "      <td>NaN</td>\n",
       "      <td>NaN</td>\n",
       "      <td>NaN</td>\n",
       "      <td>NaN</td>\n",
       "      <td>NaN</td>\n",
       "      <td>NaN</td>\n",
       "      <td>NaN</td>\n",
       "      <td>NaN</td>\n",
       "      <td>['alfajor', 'favorito', 'haván']</td>\n",
       "      <td>alfajor favorito haván</td>\n",
       "      <td>[24]</td>\n",
       "    </tr>\n",
       "  </tbody>\n",
       "</table>\n",
       "</div>"
      ],
      "text/plain": [
       "   score       id       flair  comms_num  \\\n",
       "0      1  hfw14mt  Discusion🧐          1   \n",
       "1      1  hfw41eh  Discusion🧐          0   \n",
       "2      1  hfw1ao2  Discusion🧐          0   \n",
       "3      1  hfw3jof  Discusion🧐          2   \n",
       "4      1  hfw6v4i  Discusion🧐          0   \n",
       "5      1  hfw26iv  Discusion🧐          0   \n",
       "6      1  hfw2gof  Discusion🧐          1   \n",
       "7      1  hfw5s13  Discusion🧐          0   \n",
       "8      1  hfw3air  Discusion🧐          0   \n",
       "9      7  hfvxa6w  Discusion🧐          3   \n",
       "\n",
       "                                                body comment_parent_id  \\\n",
       "0  todo para decir que tapaste el baño. tira un b...            q44kw3   \n",
       "1  sopapa primero master, si hay tapón te vas a t...           hfw14mt   \n",
       "2  Usas la sopapa, o tiras agua caliente con un b...            q44kw3   \n",
       "3  Lo que he probado que siempre me dio resultado...            q44kw3   \n",
       "4  Estas cobrando por dar mantenimiento y no sabe...            q44kw3   \n",
       "5  Si tenes algo con punta, metelo y hace un poco...            q44kw3   \n",
       "6  Con una manguera para regar el jardín, si tene...            q44kw3   \n",
       "7  despues regas el jardin y se lava sola, solo q...           hfw2gof   \n",
       "8  La respuesta real es que se venden unos caños ...            q44kw3   \n",
       "9                   Mi alfajor favorito es el Havana            q443eo   \n",
       "\n",
       "  is_replay Unnamed: 7 Unnamed: 8 Unnamed: 9 Unnamed: 10 Unnamed: 11  \\\n",
       "0     False        NaN        NaN        NaN         NaN         NaN   \n",
       "1      True        NaN        NaN        NaN         NaN         NaN   \n",
       "2     False        NaN        NaN        NaN         NaN         NaN   \n",
       "3     False        NaN        NaN        NaN         NaN         NaN   \n",
       "4     False        NaN        NaN        NaN         NaN         NaN   \n",
       "5     False        NaN        NaN        NaN         NaN         NaN   \n",
       "6     False        NaN        NaN        NaN         NaN         NaN   \n",
       "7      True        NaN        NaN        NaN         NaN         NaN   \n",
       "8     False        NaN        NaN        NaN         NaN         NaN   \n",
       "9     False        NaN        NaN        NaN         NaN         NaN   \n",
       "\n",
       "  Unnamed: 12 Unnamed: 13 Unnamed: 14  \\\n",
       "0         NaN         NaN         NaN   \n",
       "1         NaN         NaN         NaN   \n",
       "2         NaN         NaN         NaN   \n",
       "3         NaN         NaN         NaN   \n",
       "4         NaN         NaN         NaN   \n",
       "5         NaN         NaN         NaN   \n",
       "6         NaN         NaN         NaN   \n",
       "7         NaN         NaN         NaN   \n",
       "8         NaN         NaN         NaN   \n",
       "9         NaN         NaN         NaN   \n",
       "\n",
       "                                        lemma_tokens  \\\n",
       "0     ['tapastir', 'baño', 'tirar', 'balde', 'aguo']   \n",
       "1  ['sopapa', 'master', 'tapón', 'va', 'teñir', '...   \n",
       "2    ['sopapo', 'tira', 'agua', 'caliente', 'balde']   \n",
       "3  ['probado', 'resultado', 'sellar', 'boca', 'in...   \n",
       "4  ['cobrar', 'mantenimiento', 'carajo', 'kjjjjjj...   \n",
       "5  ['tén', 'punto', 'metelo', 'fuerza', 'romper',...   \n",
       "6        ['regar', 'jardín', 'tén', 'pod', 'probar']   \n",
       "7  ['rega', 'jardin', 'lava', 'tenés', 'lavarte',...   \n",
       "8  ['respuesta', 'real', 'vender', 'caño', 'alamb...   \n",
       "9                   ['alfajor', 'favorito', 'haván']   \n",
       "\n",
       "                                  body_preprocessing cluster  \n",
       "0                     tapastir baño tirar balde aguo    [24]  \n",
       "1                 sopapa master tapón va teñir medio    [24]  \n",
       "2                    sopapo tira agua caliente balde    [24]  \n",
       "3  probado resultado sellar boca inodoro tirar ca...    [24]  \n",
       "4  cobrar mantenimiento carajo kjjjjjjjjj vivirio...    [24]  \n",
       "5  tén punto metelo fuerza romper tapo baño tirar...    [24]  \n",
       "6                        regar jardín tén pod probar    [24]  \n",
       "7  rega jardin lava tenés lavarte mano pulgar chorro    [24]  \n",
       "8  respuesta real vender caño alambrado decir cañ...    [24]  \n",
       "9                             alfajor favorito haván    [24]  "
      ]
     },
     "execution_count": 20,
     "metadata": {},
     "output_type": "execute_result"
    }
   ],
   "source": [
    "# Show\n",
    "reddit.head(10)"
   ]
  },
  {
   "cell_type": "code",
   "execution_count": 21,
   "metadata": {},
   "outputs": [],
   "source": [
    "reddit.to_csv(TEXT_SAVE_FILE, index=False)"
   ]
  },
  {
   "cell_type": "code",
   "execution_count": 27,
   "metadata": {},
   "outputs": [],
   "source": [
    "cluster_path = 'docs/test/fasttext_comments_per_cluster/'\n",
    "\n",
    "os.makedirs(test_dir_path,exist_ok=True)\n",
    "\n",
    "for i in range(n_clusters):\n",
    "    reddit[(reddit[\"cluster\"] == i)][['flair', 'body']].to_csv(test_dir_path + str(i) + '.csv')\n"
   ]
  },
  {
   "cell_type": "code",
   "execution_count": null,
   "metadata": {},
   "outputs": [],
   "source": []
  }
 ],
 "metadata": {
  "kernelspec": {
   "display_name": "Python 3",
   "language": "python",
   "name": "python3"
  },
  "language_info": {
   "codemirror_mode": {
    "name": "ipython",
    "version": 3
   },
   "file_extension": ".py",
   "mimetype": "text/x-python",
   "name": "python",
   "nbconvert_exporter": "python",
   "pygments_lexer": "ipython3",
   "version": "3.8.8"
  }
 },
 "nbformat": 4,
 "nbformat_minor": 4
}
