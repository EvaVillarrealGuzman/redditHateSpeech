{
 "cells": [
  {
   "cell_type": "markdown",
   "id": "bee11d05",
   "metadata": {},
   "source": [
    "En este notebook, entrenamos modelos de predicción de discursos de odio en base a distintos datasets, para poder predecir su uso en reddit."
   ]
  },
  {
   "cell_type": "code",
   "execution_count": 1,
   "id": "665f19c1",
   "metadata": {
    "collapsed": false,
    "jupyter": {
     "outputs_hidden": false
    },
    "pycharm": {
     "name": "#%%\n"
    }
   },
   "outputs": [],
   "source": [
    "import pickle\n",
    "\n",
    "import pandas as pd\n",
    "import spacy\n",
    "\n",
    "from preprocessing_utils import preprocess_corpus\n",
    "\n",
    "TEXT_SAVE_FILE = 'docs/reddit_data_hate_speech.csv'\n",
    "TEXT_SAVE_FILE_POS_HATE_SPEECH = 'docs/reddit_data_hate_speech_pos.csv'\n",
    "TEXT_SAVE_FILE_NEG_HATE_SPEECH = 'docs/reddit_data_hate_speech_neg.csv'\n",
    "TEXT_FILE_READ = 'docs/reddit_data_lda.csv'\n",
    "\n",
    "nlp = spacy.load(\"es_core_news_lg\")"
   ]
  },
  {
   "cell_type": "code",
   "execution_count": 2,
   "id": "30deb11e",
   "metadata": {
    "collapsed": false,
    "jupyter": {
     "outputs_hidden": false
    },
    "pycharm": {
     "name": "#%%\n"
    }
   },
   "outputs": [],
   "source": [
    "# guardamos el vectorizador y un modelo entrenado\n",
    "\n",
    "with open('hateval_vectorizer.pkl', 'rb') as f:\n",
    "    cv_hateval = pickle.load(f)\n",
    "    \n",
    "with open('hateval_nb_model.pkl', 'rb') as f:\n",
    "    nb_hateval = pickle.load(f)\n"
   ]
  },
  {
   "cell_type": "markdown",
   "id": "5c8b948e",
   "metadata": {},
   "source": [
    "# Prueba de modelos en Reddit con Hateval"
   ]
  },
  {
   "cell_type": "code",
   "execution_count": 3,
   "id": "52868197",
   "metadata": {
    "collapsed": false,
    "jupyter": {
     "outputs_hidden": false
    },
    "pycharm": {
     "name": "#%%\n"
    }
   },
   "outputs": [],
   "source": [
    "df = pd.read_csv(TEXT_FILE_READ)"
   ]
  },
  {
   "cell_type": "code",
   "execution_count": 4,
   "id": "7aa4faa4",
   "metadata": {
    "collapsed": false,
    "jupyter": {
     "outputs_hidden": false
    },
    "pycharm": {
     "name": "#%%\n"
    }
   },
   "outputs": [],
   "source": [
    "reddit_corpus = preprocess_corpus(df['body'].astype('str'))\n",
    "reddit_adapted = cv_hateval.transform(reddit_corpus)"
   ]
  },
  {
   "cell_type": "code",
   "execution_count": 5,
   "id": "f0b3aea7",
   "metadata": {
    "collapsed": false,
    "jupyter": {
     "outputs_hidden": false
    },
    "pycharm": {
     "name": "#%%\n"
    }
   },
   "outputs": [
    {
     "name": "stdout",
     "output_type": "stream",
     "text": [
      "[0.88380823 0.36464291 0.46504022 ... 0.36455733 0.26675617 0.08903386]\n"
     ]
    }
   ],
   "source": [
    "reddit_predictions = nb_hateval.predict(reddit_adapted)\n",
    "reddit_hs_proba = nb_hateval.predict_proba(reddit_adapted)[:,1]\n",
    "print(reddit_hs_proba)"
   ]
  },
  {
   "cell_type": "code",
   "execution_count": 6,
   "id": "91840ba2-a2de-4530-8f30-c82916083b7a",
   "metadata": {
    "collapsed": false,
    "jupyter": {
     "outputs_hidden": false
    },
    "pycharm": {
     "name": "#%%\n"
    }
   },
   "outputs": [
    {
     "name": "stdout",
     "output_type": "stream",
     "text": [
      "19394\n"
     ]
    }
   ],
   "source": [
    "target_predict_proba = 0.8\n",
    "hate_mask = reddit_hs_proba>=target_predict_proba\n",
    "non_hate_mask = reddit_hs_proba < target_predict_proba\n",
    "print(len(hate_mask))"
   ]
  },
  {
   "cell_type": "code",
   "execution_count": 7,
   "id": "d97c3b31-5b48-4358-a076-3aebb0877f73",
   "metadata": {
    "collapsed": false,
    "jupyter": {
     "outputs_hidden": false
    },
    "pycharm": {
     "name": "#%%\n"
    }
   },
   "outputs": [
    {
     "name": "stderr",
     "output_type": "stream",
     "text": [
      "<ipython-input-7-435dda9ac2e2>:8: SettingWithCopyWarning: \n",
      "A value is trying to be set on a copy of a slice from a DataFrame\n",
      "\n",
      "See the caveats in the documentation: https://pandas.pydata.org/pandas-docs/stable/user_guide/indexing.html#returning-a-view-versus-a-copy\n",
      "  df['hate_speech'][index] = is_hate_speech\n"
     ]
    }
   ],
   "source": [
    "df['hate_speech'] = df.apply(lambda row: '-' , axis = 1) \n",
    "\n",
    "for index,row in enumerate(df['body']):\n",
    "    if reddit_hs_proba[index] >= target_predict_proba :\n",
    "        is_hate_speech = 'si'\n",
    "    else:\n",
    "        is_hate_speech = 'no'\n",
    "    df['hate_speech'][index] = is_hate_speech"
   ]
  },
  {
   "cell_type": "code",
   "execution_count": 8,
   "id": "2041a0ea-b8d8-4f8d-84c4-76cff2a96192",
   "metadata": {
    "collapsed": false,
    "jupyter": {
     "outputs_hidden": false
    },
    "pycharm": {
     "name": "#%%\n"
    }
   },
   "outputs": [],
   "source": [
    "df.to_csv(TEXT_SAVE_FILE)"
   ]
  },
  {
   "cell_type": "code",
   "execution_count": 9,
   "id": "0108573d-3bd1-449e-b3c7-523b177c1d19",
   "metadata": {
    "collapsed": false,
    "jupyter": {
     "outputs_hidden": false
    },
    "pycharm": {
     "name": "#%%\n"
    }
   },
   "outputs": [],
   "source": [
    "df[hate_mask].to_csv(TEXT_SAVE_FILE_POS_HATE_SPEECH)"
   ]
  },
  {
   "cell_type": "code",
   "execution_count": 10,
   "id": "3a87778d-8647-4366-8426-4856e95ba8ed",
   "metadata": {
    "collapsed": false,
    "jupyter": {
     "outputs_hidden": false
    },
    "pycharm": {
     "name": "#%%\n"
    }
   },
   "outputs": [],
   "source": [
    "df[non_hate_mask].to_csv(TEXT_SAVE_FILE_NEG_HATE_SPEECH)"
   ]
  },
  {
   "cell_type": "code",
   "execution_count": 15,
   "id": "c5d22326-50db-4b5f-8040-237b7123a355",
   "metadata": {
    "collapsed": false,
    "jupyter": {
     "outputs_hidden": false
    },
    "pycharm": {
     "name": "#%%\n"
    }
   },
   "outputs": [
    {
     "ename": "NameError",
     "evalue": "name 'non_hate_mask' is not defined",
     "output_type": "error",
     "traceback": [
      "\u001B[0;31m\u001B[0m",
      "\u001B[0;31mNameError\u001B[0mTraceback (most recent call last)",
      "\u001B[0;32m<ipython-input-15-4840713e56a8>\u001B[0m in \u001B[0;36m<module>\u001B[0;34m\u001B[0m\n\u001B[1;32m      1\u001B[0m \u001B[0mdf\u001B[0m\u001B[0;34m[\u001B[0m\u001B[0mhate_mask\u001B[0m\u001B[0;34m]\u001B[0m\u001B[0;34m.\u001B[0m\u001B[0mto_csv\u001B[0m\u001B[0;34m(\u001B[0m\u001B[0mTEXT_SAVE_FILE_POS_HATE_SPEECH\u001B[0m\u001B[0;34m)\u001B[0m\u001B[0;34m\u001B[0m\u001B[0;34m\u001B[0m\u001B[0m\n\u001B[0;32m----> 2\u001B[0;31m \u001B[0mdf\u001B[0m\u001B[0;34m[\u001B[0m\u001B[0mnon_hate_mask\u001B[0m\u001B[0;34m]\u001B[0m\u001B[0;34m.\u001B[0m\u001B[0mto_csv\u001B[0m\u001B[0;34m(\u001B[0m\u001B[0mTEXT_SAVE_FILE_NEG_HATE_SPEECH\u001B[0m\u001B[0;34m)\u001B[0m\u001B[0;34m\u001B[0m\u001B[0;34m\u001B[0m\u001B[0m\n\u001B[0m",
      "\u001B[0;31mNameError\u001B[0m: name 'non_hate_mask' is not defined"
     ]
    }
   ],
   "source": []
  },
  {
   "cell_type": "markdown",
   "id": "a4244516",
   "metadata": {},
   "source": [
    "# Mejoras a realizar\n",
    "\n",
    "* Optimizar híper-parámetros.\n",
    "* Hacer un ensemble de clasificadores.\n",
    "* **TODO**"
   ]
  },
  {
   "cell_type": "markdown",
   "id": "2cd9b0e1",
   "metadata": {},
   "source": [
    "FIN"
   ]
  }
 ],
 "metadata": {
  "kernelspec": {
   "display_name": "Python 3",
   "language": "python",
   "name": "python3"
  },
  "language_info": {
   "codemirror_mode": {
    "name": "ipython",
    "version": 3
   },
   "file_extension": ".py",
   "mimetype": "text/x-python",
   "name": "python",
   "nbconvert_exporter": "python",
   "pygments_lexer": "ipython3",
   "version": "3.8.8"
  }
 },
 "nbformat": 4,
 "nbformat_minor": 5
}