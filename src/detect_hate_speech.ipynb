{
 "cells": [
  {
   "cell_type": "markdown",
   "id": "a3f14982-fcf3-4240-858c-a2184d401c7f",
   "metadata": {},
   "source": [
    "En este notebook, entrenamos modelos de predicción de discursos de odio en base a distintos datasets, para poder predecir su uso en reddit."
   ]
  },
  {
   "cell_type": "code",
   "execution_count": 1,
   "id": "b8e5b457-391c-441c-b9f9-1e62e91cdfba",
   "metadata": {},
   "outputs": [],
   "source": [
    "import pickle\n",
    "\n",
    "import pandas as pd\n",
    "import numpy as np\n",
    "import matplotlib.pyplot as plt\n",
    "\n",
    "from sklearn.feature_extraction.text import CountVectorizer\n",
    "from sklearn.linear_model import LogisticRegression\n",
    "from sklearn.ensemble import RandomForestClassifier\n",
    "from sklearn.naive_bayes import ComplementNB\n",
    "from sklearn.metrics import plot_confusion_matrix, classification_report\n",
    "from sklearn.model_selection import train_test_split\n",
    "\n",
    "\n",
    "import spacy\n",
    "\n",
    "from preprocessing_utils import give_emoji_free_text, url_free_text, \\\n",
    "email_free_text, quotes_free_text, get_lemmas, tokenize, preprocess_corpus\n",
    "\n",
    "nlp = spacy.load(\"es_core_news_lg\")"
   ]
  },
  {
   "cell_type": "markdown",
   "id": "fa6582ff-18ed-4d5d-b909-5155027f3e6d",
   "metadata": {},
   "source": [
    "## Dataset HatEval (SemEval 2019 Task5)\n",
    "\n",
    "Paper: https://aclanthology.org/S19-2007/\n",
    "\n",
    "Competencia: https://competitions.codalab.org/competitions/19935\n",
    "\n",
    "### Descripción\n",
    "\n",
    "Este dataset consiste en ~7000 Tweets, que posiblemente representen discurso de odio hacia mujeres o inmigrantes.\n",
    "\n",
    "El dataset está formado por 5 columnas, representando cada una:\n",
    "\n",
    "1. ID del Tweet.\n",
    "1. El texto del Tweet.\n",
    "1. HS (*hate speech*): si el discurso de odio ocurre contra mujeres o inmigrantes.\n",
    "1. TR (*target*): si HS=1, recibe un valor de 0 si el discurso de odio es contra un grupo genérico, o un valor de 1 si es específicamente contra un individuo.\n",
    "1. AG (*aggresive*): si HS=1, indica si quien escribe el Tweet exhibe comportamiento agresivo (si es así: 1; en caso contrario: 0).\n",
    "\n",
    "([fuente](https://competitions.codalab.org/competitions/19935#participate))\n"
   ]
  },
  {
   "cell_type": "code",
   "execution_count": 2,
   "id": "c58596f0-a891-42c7-8d09-3da7759cf14d",
   "metadata": {},
   "outputs": [],
   "source": [
    "verbose = 0"
   ]
  },
  {
   "cell_type": "code",
   "execution_count": 3,
   "id": "24f6c64d-04c3-4a2f-83ca-bc39c64c78ad",
   "metadata": {},
   "outputs": [
    {
     "name": "stdout",
     "output_type": "stream",
     "text": [
      "                id           HS           TR           AG\n",
      "count   4500.00000  4500.000000  4500.000000  4500.000000\n",
      "mean   22507.03400     0.412667     0.250889     0.333778\n",
      "std     1444.00945     0.492369     0.433573     0.471614\n",
      "min    20001.00000     0.000000     0.000000     0.000000\n",
      "25%    21263.50000     0.000000     0.000000     0.000000\n",
      "50%    22509.50000     0.000000     0.000000     0.000000\n",
      "75%    23759.25000     1.000000     1.000000     1.000000\n",
      "max    25000.00000     1.000000     1.000000     1.000000\n"
     ]
    }
   ],
   "source": [
    "# cargamos el dataset y vemos su información\n",
    "\n",
    "hate_eval = pd.read_csv('docs/hateval2019/hateval2019_es_train.csv')\n",
    "print(hate_eval.describe())"
   ]
  },
  {
   "cell_type": "code",
   "execution_count": 4,
   "id": "3211ad91-25bb-49ae-82d4-5d6856900dff",
   "metadata": {},
   "outputs": [],
   "source": [
    "if verbose:\n",
    "    print(hate_eval[hate_eval['HS']==1])"
   ]
  },
  {
   "cell_type": "code",
   "execution_count": 5,
   "id": "156aaf9e-0c7d-47c3-a8d0-2dfb3b484e1e",
   "metadata": {},
   "outputs": [
    {
     "name": "stdout",
     "output_type": "stream",
     "text": [
      "Cantidad de Tweets sin HS: 2643 \n",
      "Cantidad de Tweets con HS: 1857\n"
     ]
    }
   ],
   "source": [
    "print('Cantidad de Tweets sin HS: {} \\nCantidad de Tweets con HS: {}'.format(\n",
    "    len(hate_eval[hate_eval['HS']==0]), len(hate_eval[hate_eval['HS']==1])))"
   ]
  },
  {
   "cell_type": "code",
   "execution_count": 6,
   "id": "191f8095-3f66-4c50-9202-ed9db590855f",
   "metadata": {},
   "outputs": [
    {
     "name": "stdout",
     "output_type": "stream",
     "text": [
      "0       20001\n",
      "1       20002\n",
      "2       20003\n",
      "3       20004\n",
      "4       20007\n",
      "        ...  \n",
      "4495    24996\n",
      "4496    24997\n",
      "4497    24998\n",
      "4498    24999\n",
      "4499    25000\n",
      "Name: id, Length: 4500, dtype: int64\n"
     ]
    }
   ],
   "source": [
    "print(hate_eval['id'])"
   ]
  },
  {
   "cell_type": "markdown",
   "id": "d196b294-d370-47ae-b06c-0240ba811ad0",
   "metadata": {},
   "source": [
    "## Dataset Detoxis (SemEval **TODO**)\n",
    "\n",
    "Paper: **TODO**\n",
    "\n",
    "Competencia: **TODO**\n",
    "\n",
    "### Descripción\n",
    "\n",
    "Este dataset consiste en **TODO**.\n",
    "\n",
    "El dataset está formado por **TODO** columnas, representando cada una:\n",
    "\n",
    "1. **TODO**.\n"
   ]
  },
  {
   "cell_type": "code",
   "execution_count": 7,
   "id": "1f6e0ec0-df14-4eeb-b4f6-7ddece7245de",
   "metadata": {},
   "outputs": [
    {
     "name": "stdout",
     "output_type": "stream",
     "text": [
      "       comment_level  argumentation  constructiveness  positive_stance  \\\n",
      "count    3463.000000    3463.000000       3463.000000      3463.000000   \n",
      "mean        1.599191       0.460295          0.275772         0.030898   \n",
      "std         0.491310       0.498493          0.446967         0.173067   \n",
      "min         0.000000       0.000000          0.000000         0.000000   \n",
      "25%         1.000000       0.000000          0.000000         0.000000   \n",
      "50%         2.000000       0.000000          0.000000         0.000000   \n",
      "75%         2.000000       1.000000          1.000000         0.000000   \n",
      "max         3.000000       1.000000          1.000000         1.000000   \n",
      "\n",
      "       negative_stance  target_person  target_group   stereotype      sarcasm  \\\n",
      "count      3463.000000    3463.000000   3463.000000  3463.000000  3463.000000   \n",
      "mean          0.178169       0.143806      0.145250     0.094138     0.117817   \n",
      "std           0.382710       0.350944      0.352403     0.292063     0.322438   \n",
      "min           0.000000       0.000000      0.000000     0.000000     0.000000   \n",
      "25%           0.000000       0.000000      0.000000     0.000000     0.000000   \n",
      "50%           0.000000       0.000000      0.000000     0.000000     0.000000   \n",
      "75%           0.000000       0.000000      0.000000     0.000000     0.000000   \n",
      "max           1.000000       1.000000      1.000000     1.000000     1.000000   \n",
      "\n",
      "           mockery       insult  improper_language  aggressiveness  \\\n",
      "count  3463.000000  3463.000000        3463.000000     3463.000000   \n",
      "mean      0.098758     0.071614           0.103667        0.032919   \n",
      "std       0.298380     0.257885           0.304873        0.178452   \n",
      "min       0.000000     0.000000           0.000000        0.000000   \n",
      "25%       0.000000     0.000000           0.000000        0.000000   \n",
      "50%       0.000000     0.000000           0.000000        0.000000   \n",
      "75%       0.000000     0.000000           0.000000        0.000000   \n",
      "max       1.000000     1.000000           1.000000        1.000000   \n",
      "\n",
      "       intolerance     toxicity  toxicity_level  \n",
      "count  3463.000000  3463.000000     3463.000000  \n",
      "mean      0.064973     0.331216        0.448744  \n",
      "std       0.246513     0.470718        0.722793  \n",
      "min       0.000000     0.000000        0.000000  \n",
      "25%       0.000000     0.000000        0.000000  \n",
      "50%       0.000000     0.000000        0.000000  \n",
      "75%       0.000000     1.000000        1.000000  \n",
      "max       1.000000     1.000000        3.000000  \n"
     ]
    }
   ],
   "source": [
    "# cargamos detoxis dataset\n",
    "\n",
    "detoxis = pd.read_csv('docs/detoxis_data/train.csv')\n",
    "print(detoxis.describe())"
   ]
  },
  {
   "cell_type": "code",
   "execution_count": 8,
   "id": "897f7335-837a-4580-9f20-9d3709d5b35a",
   "metadata": {},
   "outputs": [],
   "source": [
    "if verbose:\n",
    "    print(detoxis[detoxis['negative_stance']==1])"
   ]
  },
  {
   "cell_type": "markdown",
   "id": "b51aa790-f349-4f90-a00d-448d7690b612",
   "metadata": {},
   "source": [
    "## Dataset MeOffendEs (Iberlef **TODO**)\n",
    "\n",
    "Paper: **TODO**\n",
    "\n",
    "Competencia: **TODO**\n",
    "\n",
    "### Descripción\n",
    "\n",
    "Este dataset consiste en .\n",
    "\n",
    "El dataset está formado por **TODO** columnas, representando cada una:\n",
    "\n",
    "1. **TODO**\n"
   ]
  },
  {
   "cell_type": "code",
   "execution_count": 9,
   "id": "e9d084dc-a26c-458b-88a6-36e4e47e351e",
   "metadata": {},
   "outputs": [
    {
     "name": "stdout",
     "output_type": "stream",
     "text": [
      "       comment_level  argumentation  constructiveness  positive_stance  \\\n",
      "count    3463.000000    3463.000000       3463.000000      3463.000000   \n",
      "mean        1.599191       0.460295          0.275772         0.030898   \n",
      "std         0.491310       0.498493          0.446967         0.173067   \n",
      "min         0.000000       0.000000          0.000000         0.000000   \n",
      "25%         1.000000       0.000000          0.000000         0.000000   \n",
      "50%         2.000000       0.000000          0.000000         0.000000   \n",
      "75%         2.000000       1.000000          1.000000         0.000000   \n",
      "max         3.000000       1.000000          1.000000         1.000000   \n",
      "\n",
      "       negative_stance  target_person  target_group   stereotype      sarcasm  \\\n",
      "count      3463.000000    3463.000000   3463.000000  3463.000000  3463.000000   \n",
      "mean          0.178169       0.143806      0.145250     0.094138     0.117817   \n",
      "std           0.382710       0.350944      0.352403     0.292063     0.322438   \n",
      "min           0.000000       0.000000      0.000000     0.000000     0.000000   \n",
      "25%           0.000000       0.000000      0.000000     0.000000     0.000000   \n",
      "50%           0.000000       0.000000      0.000000     0.000000     0.000000   \n",
      "75%           0.000000       0.000000      0.000000     0.000000     0.000000   \n",
      "max           1.000000       1.000000      1.000000     1.000000     1.000000   \n",
      "\n",
      "           mockery       insult  improper_language  aggressiveness  \\\n",
      "count  3463.000000  3463.000000        3463.000000     3463.000000   \n",
      "mean      0.098758     0.071614           0.103667        0.032919   \n",
      "std       0.298380     0.257885           0.304873        0.178452   \n",
      "min       0.000000     0.000000           0.000000        0.000000   \n",
      "25%       0.000000     0.000000           0.000000        0.000000   \n",
      "50%       0.000000     0.000000           0.000000        0.000000   \n",
      "75%       0.000000     0.000000           0.000000        0.000000   \n",
      "max       1.000000     1.000000           1.000000        1.000000   \n",
      "\n",
      "       intolerance     toxicity  toxicity_level  \n",
      "count  3463.000000  3463.000000     3463.000000  \n",
      "mean      0.064973     0.331216        0.448744  \n",
      "std       0.246513     0.470718        0.722793  \n",
      "min       0.000000     0.000000        0.000000  \n",
      "25%       0.000000     0.000000        0.000000  \n",
      "50%       0.000000     0.000000        0.000000  \n",
      "75%       0.000000     1.000000        1.000000  \n",
      "max       1.000000     1.000000        3.000000  \n"
     ]
    }
   ],
   "source": [
    "# cargamos MeOffendEs dataset\n",
    "\n",
    "meoffendes = pd.read_csv('docs/detoxis_data/train.csv')\n",
    "print(detoxis.describe())"
   ]
  },
  {
   "cell_type": "code",
   "execution_count": 10,
   "id": "bd9529b8-705e-4e63-957c-5b7f2ddd52c6",
   "metadata": {},
   "outputs": [],
   "source": [
    "if verbose:\n",
    "    pass"
   ]
  },
  {
   "cell_type": "markdown",
   "id": "684f558c-a6b1-4762-a8c6-7137833e49dc",
   "metadata": {},
   "source": [
    "# Procesamos y entrenamos cada uno de los datasets"
   ]
  },
  {
   "cell_type": "markdown",
   "id": "15a387d4-d6f9-4496-997f-f8714ed74864",
   "metadata": {},
   "source": [
    "Definimos la función general de entrenamiento, que lee un conjunto de datos, lo vectoriza y entrena un modelo a partir de dicha vectorización, mostrando las métricas generales del mismo."
   ]
  },
  {
   "cell_type": "code",
   "execution_count": 11,
   "id": "bbab1b5b-3d69-4867-9e03-b9817cbcd74d",
   "metadata": {},
   "outputs": [],
   "source": [
    "def process_training_pipeline(dataset, vectorizer, labels, model):\n",
    "    vectorized_corpus = vectorizer.fit_transform(dataset)\n",
    "    X_tr, X_val, y_tr, y_val = train_test_split(vectorized_corpus, labels, test_size=0.3, random_state=42)\n",
    "    model.fit(X_tr, y_tr)\n",
    "\n",
    "    print('Tasa de aciertos del clasificador: {} (train), {} (val)'.format(model.score(X_tr, y_tr),\n",
    "                                                                  model.score(X_val, y_val)))\n",
    "    print('\\nMétricas (train)')\n",
    "    #print(classification_report(X_tr, y_tr))\n",
    "    print('Matriz de confusión (train)')\n",
    "    plot_confusion_matrix(model, X_tr, y_tr,\n",
    "                          cmap=plt.cm.Blues, \n",
    "                          normalize='true')\n",
    "    plt.show()\n",
    "    print('\\nMétricas (val)')\n",
    "    #print(classification_report(X_val, y_val))\n",
    "    print('Matriz de confusión (val)')\n",
    "    plot_confusion_matrix(model, X_val, y_val,\n",
    "                          cmap=plt.cm.Blues, \n",
    "                          normalize='true')\n",
    "    plt.show()\n",
    "    "
   ]
  },
  {
   "cell_type": "markdown",
   "id": "1895f6f5-c7ff-4860-9aa6-ce6f68023d7c",
   "metadata": {},
   "source": [
    "### Hateval dataset"
   ]
  },
  {
   "cell_type": "code",
   "execution_count": 12,
   "id": "8a71af1e-ae2c-4b0d-8317-77b34276c004",
   "metadata": {},
   "outputs": [],
   "source": [
    "hateval_corpus_lines = preprocess_corpus(hate_eval['text'])"
   ]
  },
  {
   "cell_type": "code",
   "execution_count": 13,
   "id": "bf150cad-9345-4a3a-bc10-1217437a1f56",
   "metadata": {},
   "outputs": [],
   "source": [
    "y_hateval = hate_eval['HS'].values"
   ]
  },
  {
   "cell_type": "code",
   "execution_count": 14,
   "id": "ed393ed8-66a4-43e1-877e-aebae25b6b79",
   "metadata": {},
   "outputs": [],
   "source": [
    "cv_hateval = CountVectorizer(ngram_range=(1, 3), min_df=10)\n",
    "lg_hateval = LogisticRegression(random_state=42)\n",
    "nb_hateval = ComplementNB()\n",
    "rf_hateval = RandomForestClassifier(random_state=42)"
   ]
  },
  {
   "cell_type": "code",
   "execution_count": 15,
   "id": "5079f4c2-ea38-45e4-b273-c230cf98533e",
   "metadata": {},
   "outputs": [
    {
     "name": "stdout",
     "output_type": "stream",
     "text": [
      "Tasa de aciertos del clasificador: 0.9257142857142857 (train), 0.8051851851851852 (val)\n",
      "\n",
      "Métricas (train)\n",
      "Matriz de confusión (train)\n"
     ]
    },
    {
     "data": {
      "image/png": "[encoded data removed]",
      "text/plain": [
       "<Figure size 432x288 with 2 Axes>"
      ]
     },
     "metadata": {
      "needs_background": "light"
     },
     "output_type": "display_data"
    },
    {
     "name": "stdout",
     "output_type": "stream",
     "text": [
      "\n",
      "Métricas (val)\n",
      "Matriz de confusión (val)\n"
     ]
    },
    {
     "data": {
      "image/png": "[encoded data removed]",
      "text/plain": [
       "<Figure size 432x288 with 2 Axes>"
      ]
     },
     "metadata": {
      "needs_background": "light"
     },
     "output_type": "display_data"
    }
   ],
   "source": [
    "process_training_pipeline(hateval_corpus_lines, \n",
    "                          cv_hateval,\n",
    "                          y_hateval,\n",
    "                          lg_hateval\n",
    "                         )"
   ]
  },
  {
   "cell_type": "code",
   "execution_count": 16,
   "id": "b5a2e105-5c68-4ceb-b5fa-a7641a482183",
   "metadata": {},
   "outputs": [
    {
     "name": "stdout",
     "output_type": "stream",
     "text": [
      "Tasa de aciertos del clasificador: 0.9996825396825397 (train), 0.8007407407407408 (val)\n",
      "\n",
      "Métricas (train)\n",
      "Matriz de confusión (train)\n"
     ]
    },
    {
     "data": {
      "image/png": "[encoded data removed]",
      "text/plain": [
       "<Figure size 432x288 with 2 Axes>"
      ]
     },
     "metadata": {
      "needs_background": "light"
     },
     "output_type": "display_data"
    },
    {
     "name": "stdout",
     "output_type": "stream",
     "text": [
      "\n",
      "Métricas (val)\n",
      "Matriz de confusión (val)\n"
     ]
    },
    {
     "data": {
      "image/png": "[encoded data removed]",
      "text/plain": [
       "<Figure size 432x288 with 2 Axes>"
      ]
     },
     "metadata": {
      "needs_background": "light"
     },
     "output_type": "display_data"
    }
   ],
   "source": [
    "process_training_pipeline(hateval_corpus_lines, \n",
    "                          cv_hateval,\n",
    "                          y_hateval,\n",
    "                          rf_hateval\n",
    "                         )"
   ]
  },
  {
   "cell_type": "code",
   "execution_count": 17,
   "id": "7ac153a9-bb3b-4ab8-9f62-a1db3d13c840",
   "metadata": {},
   "outputs": [
    {
     "name": "stdout",
     "output_type": "stream",
     "text": [
      "Tasa de aciertos del clasificador: 0.8368253968253968 (train), 0.7703703703703704 (val)\n",
      "\n",
      "Métricas (train)\n",
      "Matriz de confusión (train)\n"
     ]
    },
    {
     "data": {
      "image/png": "[encoded data removed]",
      "text/plain": [
       "<Figure size 432x288 with 2 Axes>"
      ]
     },
     "metadata": {
      "needs_background": "light"
     },
     "output_type": "display_data"
    },
    {
     "name": "stdout",
     "output_type": "stream",
     "text": [
      "\n",
      "Métricas (val)\n",
      "Matriz de confusión (val)\n"
     ]
    },
    {
     "data": {
      "image/png": "[encoded data removed]",
      "text/plain": [
       "<Figure size 432x288 with 2 Axes>"
      ]
     },
     "metadata": {
      "needs_background": "light"
     },
     "output_type": "display_data"
    }
   ],
   "source": [
    "process_training_pipeline(hateval_corpus_lines, \n",
    "                          cv_hateval,\n",
    "                          y_hateval,\n",
    "                          nb_hateval\n",
    "                         )"
   ]
  },
  {
   "cell_type": "code",
   "execution_count": 18,
   "id": "3323a0cd-41be-43e7-9745-344791e5d2b3",
   "metadata": {},
   "outputs": [],
   "source": [
    "if verbose:\n",
    "    print(cv_hateval.get_feature_names()[:5])"
   ]
  },
  {
   "cell_type": "code",
   "execution_count": 19,
   "id": "477ff016-872d-4d89-b971-94a41a57cbbf",
   "metadata": {},
   "outputs": [],
   "source": [
    "# obtenemos las características que más aportan a la clasificación del modelo random forest\n",
    "rf_features_hateval_idx = rf_hateval.feature_importances_.argsort()[::-1]\n",
    "\n",
    "if verbose:\n",
    "    print(np.array(cv_hateval.get_feature_names())[rf_features_hateval_idx[:30]])\n",
    "    print(rf_hateval.feature_importances_[rf_features_hateval_idx[:30]])"
   ]
  },
  {
   "cell_type": "code",
   "execution_count": 20,
   "id": "646f7e53-0482-4606-94c0-ab38dfb01090",
   "metadata": {},
   "outputs": [],
   "source": [
    "# guardamos el vectorizador y un modelo entrenado\n",
    "\n",
    "with open('hateval_vectorizer.pkl', 'wb') as file:\n",
    "    pickle.dump(cv_hateval, file)\n",
    "\n",
    "with open('hateval_nb_model.pkl', 'wb') as file:\n",
    "    pickle.dump(nb_hateval, file)\n",
    "    "
   ]
  },
  {
   "cell_type": "markdown",
   "id": "be47d164-9fda-4f62-a524-144f21c67010",
   "metadata": {},
   "source": [
    "## Detoxis dataset"
   ]
  },
  {
   "cell_type": "code",
   "execution_count": 21,
   "id": "38343975-280d-4f10-98b5-57f821ad56d7",
   "metadata": {},
   "outputs": [],
   "source": [
    "detoxis_corpus_lines = preprocess_corpus(detoxis['comment'])\n",
    "y_detoxis = detoxis['aggressiveness']"
   ]
  },
  {
   "cell_type": "code",
   "execution_count": 22,
   "id": "27b5d506-5a1b-4ccd-a31a-f10c3edbae10",
   "metadata": {},
   "outputs": [
    {
     "data": {
      "text/plain": [
       "2       1\n",
       "5       1\n",
       "10      1\n",
       "29      1\n",
       "32      1\n",
       "       ..\n",
       "3280    1\n",
       "3288    1\n",
       "3289    1\n",
       "3291    1\n",
       "3295    1\n",
       "Name: aggressiveness, Length: 114, dtype: int64"
      ]
     },
     "execution_count": 22,
     "metadata": {},
     "output_type": "execute_result"
    }
   ],
   "source": [
    "y_detoxis[detoxis['aggressiveness']==1]"
   ]
  },
  {
   "cell_type": "code",
   "execution_count": 23,
   "id": "80eeaae0-d82e-401b-ab6d-f42f59a431fc",
   "metadata": {},
   "outputs": [],
   "source": [
    "cv_detoxis = CountVectorizer(ngram_range=(1, 3), min_df=10)\n",
    "lg_detoxis = LogisticRegression(random_state=42)\n",
    "nb_detoxis = ComplementNB()\n",
    "rf_detoxis = RandomForestClassifier(random_state=42)"
   ]
  },
  {
   "cell_type": "code",
   "execution_count": 24,
   "id": "da6abfab-f89a-4a11-9024-8dc361ddac96",
   "metadata": {},
   "outputs": [
    {
     "name": "stdout",
     "output_type": "stream",
     "text": [
      "Tasa de aciertos del clasificador: 0.9913366336633663 (train), 0.958614051973051 (val)\n",
      "\n",
      "Métricas (train)\n",
      "Matriz de confusión (train)\n"
     ]
    },
    {
     "data": {
      "image/png": "[encoded data removed]",
      "text/plain": [
       "<Figure size 432x288 with 2 Axes>"
      ]
     },
     "metadata": {
      "needs_background": "light"
     },
     "output_type": "display_data"
    },
    {
     "name": "stdout",
     "output_type": "stream",
     "text": [
      "\n",
      "Métricas (val)\n",
      "Matriz de confusión (val)\n"
     ]
    },
    {
     "data": {
      "image/png": "[encoded data removed]",
      "text/plain": [
       "<Figure size 432x288 with 2 Axes>"
      ]
     },
     "metadata": {
      "needs_background": "light"
     },
     "output_type": "display_data"
    }
   ],
   "source": [
    "process_training_pipeline(detoxis_corpus_lines, \n",
    "                          cv_detoxis,\n",
    "                          y_detoxis,\n",
    "                          lg_detoxis\n",
    "                         )"
   ]
  },
  {
   "cell_type": "code",
   "execution_count": 25,
   "id": "70308100-ce59-40a7-8bf7-38f9f895f283",
   "metadata": {},
   "outputs": [
    {
     "name": "stdout",
     "output_type": "stream",
     "text": [
      "Tasa de aciertos del clasificador: 0.9995874587458746 (train), 0.9615014436958614 (val)\n",
      "\n",
      "Métricas (train)\n",
      "Matriz de confusión (train)\n"
     ]
    },
    {
     "data": {
      "image/png": "[encoded data removed]",
      "text/plain": [
       "<Figure size 432x288 with 2 Axes>"
      ]
     },
     "metadata": {
      "needs_background": "light"
     },
     "output_type": "display_data"
    },
    {
     "name": "stdout",
     "output_type": "stream",
     "text": [
      "\n",
      "Métricas (val)\n",
      "Matriz de confusión (val)\n"
     ]
    },
    {
     "data": {
      "image/png": "[encoded data removed]",
      "text/plain": [
       "<Figure size 432x288 with 2 Axes>"
      ]
     },
     "metadata": {
      "needs_background": "light"
     },
     "output_type": "display_data"
    }
   ],
   "source": [
    "process_training_pipeline(detoxis_corpus_lines, \n",
    "                          cv_detoxis,\n",
    "                          y_detoxis,\n",
    "                          rf_detoxis\n",
    "                         )"
   ]
  },
  {
   "cell_type": "code",
   "execution_count": 26,
   "id": "3b32d403-dff2-4734-8313-d313028331df",
   "metadata": {},
   "outputs": [
    {
     "name": "stdout",
     "output_type": "stream",
     "text": [
      "Tasa de aciertos del clasificador: 0.9125412541254125 (train), 0.8585178055822906 (val)\n",
      "\n",
      "Métricas (train)\n",
      "Matriz de confusión (train)\n"
     ]
    },
    {
     "data": {
      "image/png": "[encoded data removed]",
      "text/plain": [
       "<Figure size 432x288 with 2 Axes>"
      ]
     },
     "metadata": {
      "needs_background": "light"
     },
     "output_type": "display_data"
    },
    {
     "name": "stdout",
     "output_type": "stream",
     "text": [
      "\n",
      "Métricas (val)\n",
      "Matriz de confusión (val)\n"
     ]
    },
    {
     "data": {
      "image/png": "[encoded data removed]",
      "text/plain": [
       "<Figure size 432x288 with 2 Axes>"
      ]
     },
     "metadata": {
      "needs_background": "light"
     },
     "output_type": "display_data"
    }
   ],
   "source": [
    "process_training_pipeline(detoxis_corpus_lines, \n",
    "                          cv_detoxis,\n",
    "                          y_detoxis,\n",
    "                          nb_detoxis\n",
    "                         )"
   ]
  },
  {
   "cell_type": "code",
   "execution_count": 27,
   "id": "b0345bb0-e800-4243-b877-4286b419b822",
   "metadata": {},
   "outputs": [],
   "source": [
    "# obtenemos las características que más aportan a la clasificación del modelo random forest\n",
    "rf_features_detoxis_idx = rf_detoxis.feature_importances_.argsort()[::-1]\n",
    "\n",
    "if verbose:\n",
    "    print(np.array(cv_detoxis.get_feature_names())[rf_features_detoxis_idx[:30]])\n",
    "    print(rf_detoxis.feature_importances_[rf_features_detoxis_idx[:30]])"
   ]
  },
  {
   "cell_type": "markdown",
   "id": "2878fdd1-29f1-49bb-813f-f110274fb6fe",
   "metadata": {},
   "source": [
    "## MeOffendEs dataset"
   ]
  },
  {
   "cell_type": "code",
   "execution_count": 28,
   "id": "8cb20024-bc52-408e-80c7-3efbe55927e0",
   "metadata": {},
   "outputs": [],
   "source": [
    "cv_meoffendes = CountVectorizer(ngram_range=(1, 3), min_df=10)\n",
    "lg_meoffendes = LogisticRegression(random_state=42)\n",
    "nb_meoffendes = ComplementNB()\n",
    "rf_meoffendes = RandomForestClassifier(random_state=42)"
   ]
  },
  {
   "cell_type": "markdown",
   "id": "39dc22bf-bc52-4873-a188-e832b89ec8d3",
   "metadata": {},
   "source": [
    "# Prueba de modelos en Reddit con Hateval"
   ]
  },
  {
   "cell_type": "code",
   "execution_count": 29,
   "id": "b0057dd8-75a8-4157-905b-2ff931b03dd2",
   "metadata": {
    "tags": []
   },
   "outputs": [],
   "source": [
    "df = pd.read_csv('docs/preprocessing_reddit_data.csv')\n",
    "\n",
    "if verbose:\n",
    "    print(df)"
   ]
  },
  {
   "cell_type": "code",
   "execution_count": 30,
   "id": "4b95ee32-8e37-4643-954c-768cb8b00a47",
   "metadata": {},
   "outputs": [],
   "source": [
    "df_reddit_original = pd.read_csv('docs/reddit_data.csv')"
   ]
  },
  {
   "cell_type": "code",
   "execution_count": 31,
   "id": "a280243f-b01b-4f5e-a5ab-b23a54d47ab8",
   "metadata": {},
   "outputs": [],
   "source": [
    "reddit_corpus = preprocess_corpus(df['body'].astype('str'))\n",
    "reddit_adapted = cv_hateval.transform(reddit_corpus)"
   ]
  },
  {
   "cell_type": "code",
   "execution_count": 32,
   "id": "90bedfb6-e583-47e2-8710-abdebdcb242d",
   "metadata": {},
   "outputs": [
    {
     "name": "stdout",
     "output_type": "stream",
     "text": [
      "[0.5        0.17581837 0.5        ... 0.5        0.6700017  0.5       ]\n"
     ]
    }
   ],
   "source": [
    "reddit_predictions = nb_hateval.predict(reddit_adapted)\n",
    "reddit_hs_proba = nb_hateval.predict_proba(reddit_adapted)[:,1]\n",
    "print(reddit_hs_proba)"
   ]
  },
  {
   "cell_type": "code",
   "execution_count": 33,
   "id": "3bbc51b3-37b5-4863-881d-84e0ea3997bd",
   "metadata": {},
   "outputs": [
    {
     "name": "stdout",
     "output_type": "stream",
     "text": [
      "35134\n"
     ]
    }
   ],
   "source": [
    "target_predict_proba = 0.8\n",
    "hate_mask = reddit_hs_proba>=target_predict_proba\n",
    "print(len(hate_mask))"
   ]
  },
  {
   "cell_type": "code",
   "execution_count": 34,
   "id": "46feeacb-64bf-47dd-a71a-c8749c0d0d26",
   "metadata": {},
   "outputs": [],
   "source": [
    "df_reddit_original[hate_mask].to_csv('test_reddit_hateval_hate_comments.csv')"
   ]
  },
  {
   "cell_type": "markdown",
   "id": "d657d195-2bfe-4e0a-ad90-32ddad9edfd6",
   "metadata": {},
   "source": [
    "# Mejoras a realizar\n",
    "\n",
    "* Optimizar híper-parámetros.\n",
    "* Hacer un ensemble de clasificadores.\n",
    "* **TODO**"
   ]
  },
  {
   "cell_type": "markdown",
   "id": "5a254f42-8609-48f9-a4f7-6c3aa643089c",
   "metadata": {},
   "source": [
    "FIN"
   ]
  }
 ],
 "metadata": {
  "kernelspec": {
   "display_name": "Python 3",
   "language": "python",
   "name": "python3"
  },
  "language_info": {
   "codemirror_mode": {
    "name": "ipython",
    "version": 3
   },
   "file_extension": ".py",
   "mimetype": "text/x-python",
   "name": "python",
   "nbconvert_exporter": "python",
   "pygments_lexer": "ipython3",
   "version": "3.8.8"
  }
 },
 "nbformat": 4,
 "nbformat_minor": 5
}
