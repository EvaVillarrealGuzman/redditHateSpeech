{
 "cells": [
  {
   "cell_type": "markdown",
   "id": "bee11d05",
   "metadata": {},
   "source": [
    "En este notebook, entrenamos modelos de predicción de discursos de odio en base a distintos datasets, para poder predecir su uso en reddit."
   ]
  },
  {
   "cell_type": "code",
   "execution_count": 1,
   "id": "665f19c1",
   "metadata": {
    "collapsed": false,
    "jupyter": {
     "outputs_hidden": false
    },
    "pycharm": {
     "name": "#%%\n"
    }
   },
   "outputs": [],
   "source": [
    "import pickle\n",
    "\n",
    "import pandas as pd\n",
    "import spacy\n",
    "\n",
    "from preprocessing_utils import preprocess_corpus\n",
    "\n",
    "\n",
    "EMBEDDING = 'word2vec'  # valores posibles: 'lda', 'word2vec', 'fasttext'\n",
    "\n",
    "TEXT_FILE_READ = 'docs/reddit_data_{}.csv'.format(EMBEDDING)\n",
    "\n",
    "TEXT_SAVE_FILE = 'docs/reddit_data_hate_speech.csv'\n",
    "TEXT_SAVE_FILE_POS_HATE_SPEECH = 'docs/test/reddit_data_hate_speech_pos.csv'\n",
    "TEXT_SAVE_FILE_NEG_HATE_SPEECH = 'docs/test/reddit_data_hate_speech_neg.csv'\n",
    "\n",
    "nlp = spacy.load(\"es_core_news_lg\")"
   ]
  },
  {
   "cell_type": "markdown",
   "id": "10ff9bda-3f26-4bb2-bc41-e93e29e775d5",
   "metadata": {},
   "source": [
    "# cargamos vectorizadores y modelos entrenados\n",
    "\n",
    "models = {}\n",
    "\n",
    "for dataset in ['hateval', 'detoxis', 'meoffendmex']:\n",
    "    # cargamos el vectorizador usado en el dataset\n",
    "    \n",
    "    \n",
    "    for model in ['lg', 'rf', 'nb']:\n",
    "        # cargamos cada modelo entrenado en el dataset\n",
    "        with open('docs/models/{}_{}_model.pkl'.format(dataset, model), 'rb') as f:\n",
    "            models['{}_{}'.format(dataset, model)] = pickle.load()"
   ]
  },
  {
   "cell_type": "markdown",
   "id": "4111c7b6-de04-43db-94af-4ef71681f73f",
   "metadata": {
    "jupyter": {
     "outputs_hidden": false
    },
    "pycharm": {
     "name": "#%%\n"
    }
   },
   "source": [
    "# cargamos vectorizadores y modelos entrenados\n",
    "\n",
    "with open('docs/models/hateval_vectorizer.pkl', 'rb') as f:\n",
    "    cv_hateval = pickle.load(f)\n",
    "    \n",
    "with open('docs/models/hateval_lg_model.pkl', 'rb') as f:\n",
    "    lg_hateval = pickle.load(f)\n",
    "    \n",
    "with open('docs/models/hateval_rf_model.pkl', 'rb') as f:\n",
    "    rf_hateval = pickle.load(f)\n",
    "    \n",
    "with open('docs/models/hateval_nb_model.pkl', 'rb') as f:\n",
    "    nb_hateval = pickle.load(f)\n",
    "    \n",
    "    \n",
    "with open('docs/models/detoxis_vectorizer.pkl', 'rb') as f:\n",
    "    cv_detoxis = pickle.load(f)\n",
    "    \n",
    "with open('docs/models/detoxis_lg_model.pkl', 'rb') as f:\n",
    "    nb_detoxis = pickle.load(f)\n",
    "    \n",
    "with open('docs/models/detoxis_rf_model.pkl', 'rb') as f:\n",
    "    nb_detoxis = pickle.load(f)\n",
    "    \n",
    "with open('docs/models/detoxis_nb_model.pkl', 'rb') as f:\n",
    "    nb_detoxis = pickle.load(f)\n",
    "    \n",
    "    \n",
    "with open('docs/models/meoffendmex_vectorizer.pkl', 'rb') as f:\n",
    "    cv_meoffendmex = pickle.load(f)\n",
    "    \n",
    "with open('docs/models/meoffendmex_lg_model.pkl', 'rb') as f:\n",
    "    nb_meoffendmex = pickle.load(f)\n",
    "    \n",
    "with open('docs/models/meoffendmex_rf_model.pkl', 'rb') as f:\n",
    "    nb_meoffendmex = pickle.load(f)\n",
    "    \n",
    "with open('docs/models/meoffendmex_nb_model.pkl', 'rb') as f:\n",
    "    nb_meoffendmex = pickle.load(f)\n"
   ]
  },
  {
   "cell_type": "code",
   "execution_count": 2,
   "id": "a6f2ad2f-6cc3-41c5-bbc2-5d7ce7104c0f",
   "metadata": {},
   "outputs": [],
   "source": [
    "# cargamos un vectorizador y un modelo entrenado\n",
    "\n",
    "with open('docs/models/meoffendmex_vectorizer.pkl', 'rb') as f:\n",
    "    cv_meoffendmex = pickle.load(f)\n",
    "    \n",
    "with open('docs/models/meoffendmex_nb_model.pkl', 'rb') as f:\n",
    "    nb_meoffendmex = pickle.load(f)"
   ]
  },
  {
   "cell_type": "markdown",
   "id": "5c8b948e",
   "metadata": {},
   "source": [
    "# Prueba de modelos en Reddit con MeOffendMex"
   ]
  },
  {
   "cell_type": "code",
   "execution_count": 3,
   "id": "52868197",
   "metadata": {
    "collapsed": false,
    "jupyter": {
     "outputs_hidden": false
    },
    "pycharm": {
     "name": "#%%\n"
    }
   },
   "outputs": [],
   "source": [
    "df = pd.read_csv(TEXT_FILE_READ)"
   ]
  },
  {
   "cell_type": "code",
   "execution_count": 4,
   "id": "7aa4faa4",
   "metadata": {
    "collapsed": false,
    "jupyter": {
     "outputs_hidden": false
    },
    "pycharm": {
     "name": "#%%\n"
    }
   },
   "outputs": [],
   "source": [
    "reddit_corpus = preprocess_corpus(df['body'].astype('str'))\n",
    "reddit_adapted = cv_meoffendmex.transform(reddit_corpus)"
   ]
  },
  {
   "cell_type": "code",
   "execution_count": 5,
   "id": "f0b3aea7",
   "metadata": {
    "collapsed": false,
    "jupyter": {
     "outputs_hidden": false
    },
    "pycharm": {
     "name": "#%%\n"
    }
   },
   "outputs": [
    {
     "name": "stdout",
     "output_type": "stream",
     "text": [
      "[0.00569818 0.9816972  0.10259367 ... 0.47363154 0.02588299 0.41293737]\n"
     ]
    }
   ],
   "source": [
    "reddit_predictions = nb_meoffendmex.predict(reddit_adapted)\n",
    "reddit_hs_proba = nb_meoffendmex.predict_proba(reddit_adapted)[:,1]\n",
    "print(reddit_hs_proba)"
   ]
  },
  {
   "cell_type": "code",
   "execution_count": 11,
   "id": "91840ba2-a2de-4530-8f30-c82916083b7a",
   "metadata": {
    "collapsed": false,
    "jupyter": {
     "outputs_hidden": false
    },
    "pycharm": {
     "name": "#%%\n"
    }
   },
   "outputs": [
    {
     "name": "stdout",
     "output_type": "stream",
     "text": [
      "27791\n"
     ]
    }
   ],
   "source": [
    "target_predict_proba = 0.8\n",
    "hate_mask = reddit_hs_proba>=target_predict_proba\n",
    "non_hate_mask = reddit_hs_proba < target_predict_proba\n",
    "print(len(hate_mask))"
   ]
  },
  {
   "cell_type": "code",
   "execution_count": 14,
   "id": "ad9714de-0d6a-4df5-b3fd-19fd9f4554ae",
   "metadata": {},
   "outputs": [
    {
     "data": {
      "text/plain": [
       "27791"
      ]
     },
     "execution_count": 14,
     "metadata": {},
     "output_type": "execute_result"
    }
   ],
   "source": [
    "len(hate_mask)"
   ]
  },
  {
   "cell_type": "code",
   "execution_count": 7,
   "id": "d97c3b31-5b48-4358-a076-3aebb0877f73",
   "metadata": {
    "collapsed": false,
    "jupyter": {
     "outputs_hidden": false
    },
    "pycharm": {
     "name": "#%%\n"
    }
   },
   "outputs": [
    {
     "name": "stderr",
     "output_type": "stream",
     "text": [
      "<ipython-input-7-435dda9ac2e2>:8: SettingWithCopyWarning: \n",
      "A value is trying to be set on a copy of a slice from a DataFrame\n",
      "\n",
      "See the caveats in the documentation: https://pandas.pydata.org/pandas-docs/stable/user_guide/indexing.html#returning-a-view-versus-a-copy\n",
      "  df['hate_speech'][index] = is_hate_speech\n"
     ]
    }
   ],
   "source": [
    "df['hate_speech'] = df.apply(lambda row: '-' , axis = 1) \n",
    "\n",
    "for index,row in enumerate(df['body']):\n",
    "    if reddit_hs_proba[index] >= target_predict_proba :\n",
    "        is_hate_speech = 'si'\n",
    "    else:\n",
    "        is_hate_speech = 'no'\n",
    "    df['hate_speech'][index] = is_hate_speech"
   ]
  },
  {
   "cell_type": "code",
   "execution_count": 8,
   "id": "2041a0ea-b8d8-4f8d-84c4-76cff2a96192",
   "metadata": {
    "collapsed": false,
    "jupyter": {
     "outputs_hidden": false
    },
    "pycharm": {
     "name": "#%%\n"
    }
   },
   "outputs": [],
   "source": [
    "df.to_csv(TEXT_SAVE_FILE)"
   ]
  },
  {
   "cell_type": "code",
   "execution_count": 9,
   "id": "0108573d-3bd1-449e-b3c7-523b177c1d19",
   "metadata": {
    "collapsed": false,
    "jupyter": {
     "outputs_hidden": false
    },
    "pycharm": {
     "name": "#%%\n"
    }
   },
   "outputs": [],
   "source": [
    "df[hate_mask].to_csv(TEXT_SAVE_FILE_POS_HATE_SPEECH)"
   ]
  },
  {
   "cell_type": "code",
   "execution_count": 10,
   "id": "3a87778d-8647-4366-8426-4856e95ba8ed",
   "metadata": {
    "collapsed": false,
    "jupyter": {
     "outputs_hidden": false
    },
    "pycharm": {
     "name": "#%%\n"
    }
   },
   "outputs": [],
   "source": [
    "df[non_hate_mask].to_csv(TEXT_SAVE_FILE_NEG_HATE_SPEECH)"
   ]
  },
  {
   "cell_type": "markdown",
   "id": "2cd9b0e1",
   "metadata": {},
   "source": [
    "FIN"
   ]
  }
 ],
 "metadata": {
  "kernelspec": {
   "display_name": "Python 3",
   "language": "python",
   "name": "python3"
  },
  "language_info": {
   "codemirror_mode": {
    "name": "ipython",
    "version": 3
   },
   "file_extension": ".py",
   "mimetype": "text/x-python",
   "name": "python",
   "nbconvert_exporter": "python",
   "pygments_lexer": "ipython3",
   "version": "3.8.8"
  }
 },
 "nbformat": 4,
 "nbformat_minor": 5
}
