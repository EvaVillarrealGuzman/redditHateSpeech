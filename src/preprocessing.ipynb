{
 "cells": [
  {
   "cell_type": "markdown",
   "metadata": {},
   "source": [
    "# Pre procesamiento\n",
    "\n",
    "En este *notebook* se aplicará el pre-procesamiento a cada comentario de reddit. El resultado se guardará en un archivo que es similar al archivo origen, con la única diferencia que el comentario estará conformado por *strings* procesados.\n",
    "\n",
    "Se realizan los siguientes pre-procesamientos:\n",
    "1. Eliminación de *stop words*\n",
    "2. Lematización utilizando Spacy\n",
    "3. Eliminación de las palabras menos frecuentes\n",
    "4. Conversión de los lemas a minúscula\n",
    "5. Eliminación de palabras no alfanuméricas\n",
    "6. Solo se consideran palabras cuyo *part-of-speech* son un nombre propio, un sustantivo o un pronombre. [Ver *Universal POS tags*](https://universaldependencies.org/docs/u/pos/)\n",
    "\n",
    "### Fuente\n",
    "\n",
    "- [Twitter Topic Modeling](https://towardsdatascience.com/twitter-topic-modeling-e0e3315b12e2)\n"
   ]
  },
  {
   "cell_type": "code",
   "execution_count": 1,
   "metadata": {
    "collapsed": false,
    "jupyter": {
     "outputs_hidden": false
    },
    "pycharm": {
     "name": "#%%\n"
    }
   },
   "outputs": [],
   "source": [
    "import pandas as pd\n",
    "import re, nltk, spacy, gensim\n",
    "import emoji\n",
    "from spacy.tokenizer import Tokenizer\n",
    "import string\n",
    "import pickle\n",
    "\n",
    "import warnings\n",
    "warnings.filterwarnings(\"ignore\", category=DeprecationWarning)\n",
    "\n",
    "from preprocessing_utils import give_emoji_free_text, url_free_text, \\\n",
    "email_free_text, quotes_free_text, get_lemmas, tokenize\n",
    "\n",
    "%matplotlib inline\n",
    "\n",
    "TEXT_FILE_READ = 'docs/reddit_data.csv'\t# Text to be processed\n",
    "TEXT_SAVE_FILE = 'docs/preprocessing_reddit_data.csv'\n",
    "FILENAME_PICKLE = \"docs/tmpreddit.pickle\""
   ]
  },
  {
   "cell_type": "code",
   "execution_count": 2,
   "metadata": {
    "pycharm": {
     "name": "#%%\n"
    }
   },
   "outputs": [],
   "source": [
    "nlp = spacy.load('es_core_news_sm', disable=['ner', 'parser']) # disabling Named Entity Recognition for speed\n",
    "reddit = pd.read_csv(TEXT_FILE_READ)\n",
    "tmpreddit = pd.read_csv(TEXT_FILE_READ)"
   ]
  },
  {
   "cell_type": "code",
   "execution_count": 3,
   "metadata": {},
   "outputs": [],
   "source": [
    "# Apply the function above and get tweets free of emoji's\n",
    "call_emoji_free = lambda x: give_emoji_free_text(x)\n",
    "\n",
    "# Apply `call_emoji_free` which calls the function to remove all emoji's\n",
    "tmpreddit['emails_free'] = tmpreddit['body'].apply(email_free_text)\n",
    "\n",
    "#Create a new column with url free tweets\n",
    "tmpreddit['quotes_free'] = tmpreddit['emails_free'].apply(quotes_free_text)\n",
    "\n",
    "# Apply `call_emoji_free` which calls the function to remove all emoji's\n",
    "tmpreddit['emoji_free'] = tmpreddit['quotes_free'].apply(call_emoji_free)\n",
    "\n",
    "#Create a new column with url free tweets\n",
    "tmpreddit['url_free'] = tmpreddit['emoji_free'].apply(url_free_text)\n",
    "\n",
    "#print(tmpreddit[:1])"
   ]
  },
  {
   "cell_type": "code",
   "execution_count": 4,
   "metadata": {
    "collapsed": false,
    "jupyter": {
     "outputs_hidden": false
    },
    "pycharm": {
     "name": "#%%\n"
    }
   },
   "outputs": [],
   "source": [
    "# Tokenizer\n",
    "tokenizer = Tokenizer(nlp.vocab)\n",
    "\n",
    "tokens = []\n",
    "\n",
    "for doc in tokenizer.pipe(tmpreddit['url_free'], batch_size=500):\n",
    "    doc_tokens = []\n",
    "    for token in doc:\n",
    "        if token.text.lower() not in nlp.Defaults.stop_words:\n",
    "            doc_tokens.append(token.text.lower())\n",
    "    tokens.append(doc_tokens)\n",
    "\n",
    "# Makes tokens column\n",
    "tmpreddit['tokens'] = tokens\n"
   ]
  },
  {
   "cell_type": "code",
   "execution_count": 5,
   "metadata": {
    "collapsed": false,
    "jupyter": {
     "outputs_hidden": false
    },
    "pycharm": {
     "name": "#%%\n"
    }
   },
   "outputs": [],
   "source": [
    "# Make tokens a string again\n",
    "tmpreddit['tokens_back_to_text'] = [' '.join(map(str, l)) for l in tmpreddit['tokens']]\n",
    "\n",
    "tmpreddit['lemmas'] = tmpreddit['tokens_back_to_text'].apply(get_lemmas)\n"
   ]
  },
  {
   "cell_type": "code",
   "execution_count": 6,
   "metadata": {
    "collapsed": false,
    "jupyter": {
     "outputs_hidden": false
    },
    "pycharm": {
     "name": "#%%\n"
    }
   },
   "outputs": [],
   "source": [
    "# Make lemmas a string again\n",
    "tmpreddit['lemmas_back_to_text'] = [' '.join(map(str, l)) for l in tmpreddit['lemmas']]\n",
    "\n",
    "# Apply tokenizer\n",
    "tmpreddit['lemma_tokens'] = tmpreddit['lemmas_back_to_text'].apply(tokenize)\n",
    "\n"
   ]
  },
  {
   "cell_type": "code",
   "execution_count": 7,
   "metadata": {
    "pycharm": {
     "name": "#%%\n"
    }
   },
   "outputs": [
    {
     "name": "stderr",
     "output_type": "stream",
     "text": [
      "<ipython-input-7-69c5fc8d9981>:2: SettingWithCopyWarning: \n",
      "A value is trying to be set on a copy of a slice from a DataFrame\n",
      "\n",
      "See the caveats in the documentation: https://pandas.pydata.org/pandas-docs/stable/user_guide/indexing.html#returning-a-view-versus-a-copy\n",
      "  reddit['body'][index] = tmpreddit['lemmas_back_to_text'][index]\n"
     ]
    }
   ],
   "source": [
    "for index,row in enumerate(reddit['body']):\n",
    "    reddit['body'][index] = tmpreddit['lemmas_back_to_text'][index]"
   ]
  },
  {
   "cell_type": "code",
   "execution_count": 8,
   "metadata": {
    "pycharm": {
     "name": "#%%\n"
    }
   },
   "outputs": [],
   "source": [
    "reddit.to_csv(TEXT_SAVE_FILE, index=False)\n",
    "\n",
    "fileObj = open(FILENAME_PICKLE, 'wb')\n",
    "pickle.dump(tmpreddit, fileObj)\n",
    "fileObj.close()"
   ]
  },
  {
   "cell_type": "code",
   "execution_count": null,
   "metadata": {},
   "outputs": [],
   "source": []
  }
 ],
 "metadata": {
  "kernelspec": {
   "display_name": "Python 3",
   "language": "python",
   "name": "python3"
  },
  "language_info": {
   "codemirror_mode": {
    "name": "ipython",
    "version": 3
   },
   "file_extension": ".py",
   "mimetype": "text/x-python",
   "name": "python",
   "nbconvert_exporter": "python",
   "pygments_lexer": "ipython3",
   "version": "3.8.8"
  }
 },
 "nbformat": 4,
 "nbformat_minor": 4
}
